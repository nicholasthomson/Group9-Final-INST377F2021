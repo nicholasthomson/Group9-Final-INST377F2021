{
  "cells": [
    {
      "cell_type": "markdown",
      "metadata": {
        "id": "view-in-github",
        "colab_type": "text"
      },
      "source": [
        "<a href=\"https://colab.research.google.com/github/nicholasthomson/Group9-Final-INST377F2021/blob/main/2-language-models-lab/1-word2vec.ipynb\" target=\"_parent\"><img src=\"https://colab.research.google.com/assets/colab-badge.svg\" alt=\"Open In Colab\"/></a>"
      ]
    },
    {
      "cell_type": "markdown",
      "metadata": {
        "id": "Fez8Xvai8m1-"
      },
      "source": [
        "## Word2Vec ##\n",
        "\n",
        "In this notebook we will go through the step by step creation of the Continouous Bag Of Words (CBOW).\n",
        "CBOW is an embedded model that makes use of a \"fake task\" -> [within short window, predict the current word] to extract a vector that shows the relationship between words."
      ]
    },
    {
      "cell_type": "markdown",
      "metadata": {
        "id": "fbE2VQIg8m1_"
      },
      "source": [
        "### Continuous Bag Of Words ###\n",
        "\n",
        "Adapted from Robert Guthrie"
      ]
    },
    {
      "cell_type": "code",
      "execution_count": 23,
      "metadata": {
        "id": "0I3vNQO08m1_"
      },
      "outputs": [],
      "source": [
        "import math\n",
        "import torch\n",
        "import torch.nn as nn\n",
        "import torch.nn.functional as F\n",
        "import torch.optim as optim\n",
        "import torch.linalg"
      ]
    },
    {
      "cell_type": "code",
      "execution_count": 24,
      "metadata": {
        "id": "DkUNluPk8m2A"
      },
      "outputs": [],
      "source": [
        "device = torch.device(\"cuda\" if torch.cuda.is_available() else \"cpu\")\n",
        "# device = \"cpu\""
      ]
    },
    {
      "cell_type": "code",
      "execution_count": 25,
      "metadata": {
        "id": "paQLEgue8m2A",
        "outputId": "0823e1f3-a22c-41d1-9301-d87e3debc74f",
        "colab": {
          "base_uri": "https://localhost:8080/"
        }
      },
      "outputs": [
        {
          "output_type": "stream",
          "name": "stdout",
          "text": [
            "152\n",
            "106\n"
          ]
        }
      ],
      "source": [
        "# CBOW is a window view; we are trying to infer the word in the middle.\n",
        "CONTEXT_SIZE = 2  # 2 words to the left, 2 to the right\n",
        "\n",
        "raw_text= \"\"\"Long Short-Term Memory (LSTM) is a recurrent neural network (RNN) architecture that has been designed\n",
        "to address the vanishing and exploding gradient problems of conventional RNNs. Unlike feedforward neural networks,\n",
        "RNNs have cyclic connections making them powerful for modeling sequences.\n",
        "They have been successfully used for sequence labeling and sequence prediction tasks,\n",
        "such as handwriting recognition, language modeling, phonetic labeling of acoustic frames. However, in contrast to the deep neural\n",
        "networks, the use of RNNs in speech recognition has been limited to phone recognition in small scale tasks.\n",
        "In this paper, we present novel LSTM based RNN architectures which make more effective\n",
        "use of model parameters to train acoustic models for large vocabulary speech recognition.\n",
        "We train and compare LSTM, RNN and DNN models at various numbers of parameters and configurations.\n",
        "We show that LSTM models converge quickly and give state of the art speech recognition performance for relatively small sized models.\"\"\".split()\n",
        "\n",
        "# By deriving a set from \"raw_text\", we deduplicate the array\n",
        "vocab = set(raw_text)\n",
        "vocab_size = len(vocab)\n",
        "\n",
        "# Basic Tokenizer\n",
        "word_to_ix = {word: i for i, word in enumerate(vocab)}\n",
        "\n",
        "print(len(raw_text))\n",
        "print(vocab_size)"
      ]
    },
    {
      "cell_type": "code",
      "source": [
        "print(vocab)"
      ],
      "metadata": {
        "id": "C-rsTImCHnOv",
        "outputId": "d9986aa3-a3a0-42dc-e909-068b0d4ad636",
        "colab": {
          "base_uri": "https://localhost:8080/"
        }
      },
      "execution_count": 26,
      "outputs": [
        {
          "output_type": "stream",
          "name": "stdout",
          "text": [
            "{'is', 'more', 'cyclic', 'designed', 'make', 'give', 'state', 'Unlike', '(RNN)', 'limited', 'compare', 'as', 'modeling,', 'relatively', 'We', 'which', 'use', 'modeling', 'vanishing', 'used', 'recognition,', 'They', 'speech', 'small', 'deep', 'tasks.', 'the', 'language', 'numbers', 'models.', 'for', 'network', 'In', 'paper,', 'present', 'recurrent', 'feedforward', 'and', 'successfully', 'parameters', '(LSTM)', 'large', 'Long', 'Memory', 'conventional', 'tasks,', 'networks,', 'problems', 'LSTM', 'However,', 'scale', 'that', 'address', 'sequences.', 'LSTM,', 'have', 'exploding', 'powerful', 'phonetic', 'RNN', 'connections', 'recognition.', 'to', 'acoustic', 'phone', 'been', 'quickly', 'based', 'show', 'effective', 'architectures', 'frames.', 'contrast', 'of', 'has', 'in', 'sized', 'novel', 'handwriting', 'sequence', 'recognition', 'RNNs', 'performance', 'labeling', 'model', 'RNNs.', 'configurations.', 'various', 'Short-Term', 'we', 'art', 'DNN', 'them', 'gradient', 'such', 'a', 'this', 'architecture', 'prediction', 'models', 'at', 'neural', 'converge', 'vocabulary', 'train', 'making'}\n"
          ]
        }
      ]
    },
    {
      "cell_type": "code",
      "source": [
        "# list out keys and values separately\n",
        "key_list = list(word_to_ix.keys())\n",
        "val_list = list(word_to_ix.values())"
      ],
      "metadata": {
        "id": "5kQDk9vzG7eb"
      },
      "execution_count": 27,
      "outputs": []
    },
    {
      "cell_type": "code",
      "execution_count": 28,
      "metadata": {
        "id": "qWsOK8z98m2B",
        "outputId": "46cba3a1-c43d-4ccd-8eb2-fd1cc95edc2f",
        "colab": {
          "base_uri": "https://localhost:8080/"
        }
      },
      "outputs": [
        {
          "output_type": "stream",
          "name": "stdout",
          "text": [
            "[(['Long', 'Short-Term', '(LSTM)', 'is'], 'Memory'), (['Short-Term', 'Memory', 'is', 'a'], '(LSTM)'), (['Memory', '(LSTM)', 'a', 'recurrent'], 'is'), (['(LSTM)', 'is', 'recurrent', 'neural'], 'a'), (['is', 'a', 'neural', 'network'], 'recurrent')]\n"
          ]
        }
      ],
      "source": [
        "# Now lets create a \"dataset\"\n",
        "data = []\n",
        "for i in range(CONTEXT_SIZE, len(raw_text) - CONTEXT_SIZE):\n",
        "    context = []\n",
        "    for j in range(CONTEXT_SIZE, 0, -1):\n",
        "        context.append(raw_text[i - j])\n",
        "\n",
        "    for j in range(1, CONTEXT_SIZE + 1):\n",
        "        context.append(raw_text[i + j])\n",
        "\n",
        "    target = raw_text[i]\n",
        "    data.append((context, target))\n",
        "print(data[:5])\n"
      ]
    },
    {
      "cell_type": "markdown",
      "metadata": {
        "id": "OInm50Ew8m2C"
      },
      "source": [
        "### Create the CBOW Model (as we have seen already other ANN) ###\n",
        "\n",
        "We have to extend from nn.Module as all the other ANN"
      ]
    },
    {
      "cell_type": "code",
      "execution_count": 29,
      "metadata": {
        "id": "DqE-4MLS8m2C"
      },
      "outputs": [],
      "source": [
        "class CBOW(nn.Module):\n",
        "\n",
        "    def __init__(self, vocab_size, embed_dim, context, hidden_size):\n",
        "        super(CBOW, self).__init__()\n",
        "        self.embedding = nn.Embedding(vocab_size, embed_dim)\n",
        "        self.linear = nn.Sequential(\n",
        "            nn.Linear(context*embed_dim, hidden_size),\n",
        "            nn.ReLU(),\n",
        "            nn.Linear(hidden_size, vocab_size),\n",
        "            nn.LogSoftmax(dim = -1)\n",
        "        )\n",
        "\n",
        "    def forward(self, inputs):\n",
        "#         print(inputs.shape)\n",
        "#         print(inputs)\n",
        "        out = self.embedding(inputs)\n",
        "#         print(out.shape)\n",
        "        out = out.view(1, -1)\n",
        "#         print(out.shape)\n",
        "        out = self.linear(out)\n",
        "#         print(out.shape)\n",
        "        return out\n",
        "\n",
        "    # This is what we are actually interested on\n",
        "    def get_word_vector(self, word):\n",
        "        out = self.embedding(word)\n",
        "        return out\n"
      ]
    },
    {
      "cell_type": "markdown",
      "metadata": {
        "id": "_qcDsrK-8m2C"
      },
      "source": [
        "#### Lets break it down! ####"
      ]
    },
    {
      "cell_type": "code",
      "execution_count": 30,
      "metadata": {
        "id": "Vu3G3end8m2D",
        "outputId": "4230e3a9-ad20-4685-fe08-98d9a1e6e275",
        "colab": {
          "base_uri": "https://localhost:8080/"
        }
      },
      "outputs": [
        {
          "output_type": "stream",
          "name": "stdout",
          "text": [
            "tensor([[ 24,  55,  85,  85],\n",
            "        [ 32,  72,  40, 102],\n",
            "        [ 67,  24,  97, 101],\n",
            "        [ 92,  96,   3, 100],\n",
            "        [ 94,  69,  41,  18],\n",
            "        [ 66,  10, 101,  69]])\n"
          ]
        }
      ],
      "source": [
        "VOCAB_SIZE = len(vocab)\n",
        "EMBEDD_DIM = 10\n",
        "BATCH_SIZE = 6\n",
        "FULL_CONTEXT_SIZE = CONTEXT_SIZE * 2\n",
        "HIDDEN_SIZE = 256\n",
        "\n",
        "example_tensor = torch.randint(0, VOCAB_SIZE, [BATCH_SIZE, FULL_CONTEXT_SIZE])\n",
        "print(example_tensor)"
      ]
    },
    {
      "cell_type": "code",
      "execution_count": 31,
      "metadata": {
        "id": "nAfVgWkz8m2D",
        "outputId": "c421e7f7-0f81-4d52-ed89-f66c7b33b076",
        "colab": {
          "base_uri": "https://localhost:8080/"
        }
      },
      "outputs": [
        {
          "output_type": "stream",
          "name": "stdout",
          "text": [
            "torch.Size([6, 4])\n",
            "torch.Size([6, 4, 10])\n",
            "torch.Size([6, 40])\n"
          ]
        }
      ],
      "source": [
        "CBOW_embedding = nn.Embedding(VOCAB_SIZE, EMBEDD_DIM)\n",
        "print(example_tensor.shape)\n",
        "example_result = CBOW_embedding(example_tensor)\n",
        "# Now we have a representation of the words in a vector of EMBEDD_DIM Dimensions\n",
        "print(example_result.shape)\n",
        "# example_result = torch.flatten(example_result, start_dim=1)\n",
        "example_result = example_result.view(BATCH_SIZE, -1)\n",
        "print(example_result.shape)"
      ]
    },
    {
      "cell_type": "code",
      "execution_count": 32,
      "metadata": {
        "id": "MywkuGh98m2D",
        "outputId": "65930048-5a72-4115-c773-e79ec5dc374c",
        "colab": {
          "base_uri": "https://localhost:8080/"
        }
      },
      "outputs": [
        {
          "output_type": "stream",
          "name": "stdout",
          "text": [
            "input shape:  40\n",
            "output shape:  256\n",
            "torch.Size([6, 256])\n"
          ]
        }
      ],
      "source": [
        "print(\"input shape: \", EMBEDD_DIM * FULL_CONTEXT_SIZE)\n",
        "print(\"output shape: \", HIDDEN_SIZE)\n",
        "CBOW_hidden = nn.Linear(EMBEDD_DIM * FULL_CONTEXT_SIZE, HIDDEN_SIZE)\n",
        "CBOW_hidden_relu = nn.ReLU()\n",
        "example_result = CBOW_hidden(example_result)\n",
        "example_result = CBOW_hidden_relu(example_result)\n",
        "print(example_result.shape)"
      ]
    },
    {
      "cell_type": "code",
      "execution_count": 33,
      "metadata": {
        "id": "LlkTr0xS8m2E",
        "outputId": "e65ea3c7-2dc5-448f-b390-6e2a2247219a",
        "colab": {
          "base_uri": "https://localhost:8080/"
        }
      },
      "outputs": [
        {
          "output_type": "stream",
          "name": "stdout",
          "text": [
            "torch.Size([6, 106])\n"
          ]
        }
      ],
      "source": [
        "CBOW_output = nn.Linear(HIDDEN_SIZE, VOCAB_SIZE)\n",
        "CBOW_output_soft = nn.LogSoftmax(dim = -1)\n",
        "example_result = CBOW_output(example_result)\n",
        "example_result = CBOW_output_soft(example_result)\n",
        "print(example_result.shape)"
      ]
    },
    {
      "cell_type": "code",
      "execution_count": 34,
      "metadata": {
        "id": "acMFNDBt8m2E",
        "outputId": "30d83add-f501-4be3-8008-0b2c98cc0e71",
        "colab": {
          "base_uri": "https://localhost:8080/"
        }
      },
      "outputs": [
        {
          "output_type": "stream",
          "name": "stdout",
          "text": [
            "tensor(6)\n",
            "state\n",
            "tensor([-4.4380, -4.8893, -4.6922, -4.7849, -4.4376, -4.8593, -4.3260, -4.6786,\n",
            "        -5.0745, -4.5803, -4.6013, -4.7131, -4.6678, -4.8053, -4.7313, -4.5460,\n",
            "        -4.6009, -4.7773, -4.6341, -4.3517, -4.4937, -4.5001, -5.0043, -5.0883,\n",
            "        -4.4794, -4.5455, -5.2898, -4.5757, -4.7023, -4.5595, -4.6687, -4.5512,\n",
            "        -4.5903, -4.7904, -4.6428, -4.6684, -4.4965, -4.8508, -4.8107, -4.7865,\n",
            "        -4.6480, -4.8759, -4.3305, -4.8739, -4.3641, -4.8503, -4.8028, -4.7392,\n",
            "        -5.0739, -4.4379, -4.8810, -4.6924, -4.8655, -4.6130, -4.7124, -4.5794,\n",
            "        -4.7203, -5.0039, -4.8614, -4.4612, -4.4278, -4.5133, -4.7577, -4.4643,\n",
            "        -4.5912, -4.6819, -4.9158, -4.6950, -4.8721, -4.3874, -4.9480, -4.5810,\n",
            "        -4.7410, -4.4939, -4.6923, -4.7090, -4.7609, -4.5720, -4.6765, -4.7862,\n",
            "        -4.5787, -4.5850, -4.5591, -4.8904, -4.8443, -4.5335, -5.0053, -4.4781,\n",
            "        -4.6597, -4.5866, -4.4569, -4.6788, -4.6805, -4.6006, -4.5684, -4.6509,\n",
            "        -4.4574, -4.5540, -4.7478, -4.4028, -4.6047, -5.0752, -4.6067, -4.7947,\n",
            "        -4.6100, -4.9514], grad_fn=<SelectBackward0>)\n",
            "tensor(104)\n",
            "train\n",
            "tensor([-4.6038, -4.5632, -4.9149, -4.9527, -4.5927, -5.1246, -4.5775, -4.5847,\n",
            "        -5.0667, -4.5785, -4.7734, -4.6939, -4.5736, -4.5443, -5.1482, -4.5401,\n",
            "        -4.9324, -4.7108, -4.6539, -4.3864, -4.6251, -4.7352, -4.5653, -4.8976,\n",
            "        -4.9435, -4.8331, -5.0329, -4.7892, -4.9988, -4.6891, -4.7286, -4.5252,\n",
            "        -4.4793, -4.6140, -5.1045, -4.5129, -4.9038, -4.8852, -4.8005, -4.9718,\n",
            "        -5.0790, -4.6735, -4.5003, -4.9833, -4.8836, -4.3565, -4.6485, -4.5577,\n",
            "        -5.0276, -4.0762, -4.9413, -4.9236, -4.8955, -4.7358, -4.7802, -4.7111,\n",
            "        -4.3931, -4.7076, -4.9050, -4.6469, -4.4813, -4.7096, -4.8627, -4.4947,\n",
            "        -5.1308, -4.8799, -4.4723, -4.7710, -5.1308, -4.3909, -4.7320, -4.5878,\n",
            "        -4.8217, -4.5584, -4.6783, -4.6217, -4.4931, -4.9065, -4.9237, -4.6961,\n",
            "        -4.6563, -4.4055, -4.6902, -4.9521, -4.5750, -4.4515, -4.7440, -4.7216,\n",
            "        -4.7727, -4.1060, -4.1987, -4.6267, -4.8489, -4.8781, -4.4620, -4.6592,\n",
            "        -4.4227, -4.4516, -4.2644, -4.9052, -4.6114, -4.4841, -4.2102, -4.7262,\n",
            "        -4.0532, -4.5365], grad_fn=<SelectBackward0>)\n"
          ]
        }
      ],
      "source": [
        "print(example_result[0].argmax(-1))\n",
        "print(key_list[val_list.index(example_result[0].argmax(-1))])\n",
        "print(example_result[0])\n",
        "print(example_result[1].argmax(-1))\n",
        "print(key_list[val_list.index(example_result[1].argmax(-1))])\n",
        "print(example_result[1])\n",
        "# print(example_result[2].argmax(-1))\n",
        "# print(example_result[3].argmax(-1))\n",
        "# print(example_result[4].argmax(-1))"
      ]
    },
    {
      "cell_type": "markdown",
      "metadata": {
        "id": "IRxVpEgb8m2E"
      },
      "source": [
        "## Back to the notebook ##"
      ]
    },
    {
      "cell_type": "code",
      "execution_count": 35,
      "metadata": {
        "id": "vyrLdEqd8m2E",
        "outputId": "ddc423fb-fc0e-4d0b-acdb-ce33cee6a7c5",
        "colab": {
          "base_uri": "https://localhost:8080/"
        }
      },
      "outputs": [
        {
          "output_type": "stream",
          "name": "stdout",
          "text": [
            "['Long', 'Short-Term', '(LSTM)', 'is']\n"
          ]
        },
        {
          "output_type": "execute_result",
          "data": {
            "text/plain": [
              "tensor([42, 88, 40,  0])"
            ]
          },
          "metadata": {},
          "execution_count": 35
        }
      ],
      "source": [
        "# Simple helper method to transform the context to the expected int vector - tensor\n",
        "\n",
        "def make_context_vector(context, word_to_ix, debug=False):\n",
        "    if debug:\n",
        "      print(context)\n",
        "    idxs = [word_to_ix[w] for w in context]\n",
        "    return torch.tensor(idxs, dtype=torch.long)\n",
        "\n",
        "make_context_vector(data[0][0], word_to_ix, debug=True)"
      ]
    },
    {
      "cell_type": "code",
      "execution_count": 36,
      "metadata": {
        "id": "8POK-54g8m2F"
      },
      "outputs": [],
      "source": [
        "def train(model, epochs, data, optimizer, loss_fn):\n",
        "    model.train()\n",
        "    losses = []\n",
        "    for epoch in range(epochs):\n",
        "        total_loss = 0\n",
        "        for context, target in data:\n",
        "\n",
        "            # Prepare inputs and targets\n",
        "            context_idxs = make_context_vector(context, word_to_ix)\n",
        "            context_idxs = context_idxs.to(device)\n",
        "            target_id = make_context_vector([target], word_to_ix)\n",
        "            target_id = target_id.to(device)\n",
        "\n",
        "            # Do not accumulate\n",
        "            model.zero_grad()\n",
        "\n",
        "            # Step 3. Run the forward pass\n",
        "            log_probs = model(context_idxs)\n",
        "    #         break\n",
        "\n",
        "            # Step 4. Compute your loss function.\n",
        "            loss = loss_fn(log_probs, target_id)\n",
        "\n",
        "    #         loss = loss_function(log_probs, torch.tensor([word_to_ix[target]], dtype=torch.long))\n",
        "\n",
        "            # Step 5. Do the backward pass and update the gradient\n",
        "            loss.backward()\n",
        "            optimizer.step()\n",
        "\n",
        "            # Get the Python number from a 1-element Tensor by calling tensor.item()\n",
        "            total_loss += loss.item()\n",
        "        losses.append(total_loss)\n",
        "    return losses\n",
        ""
      ]
    },
    {
      "cell_type": "code",
      "execution_count": 37,
      "metadata": {
        "id": "Eah8kryt8m2F",
        "outputId": "a00c2025-53c8-4743-caba-4bd1403ab059",
        "colab": {
          "base_uri": "https://localhost:8080/"
        }
      },
      "outputs": [
        {
          "output_type": "stream",
          "name": "stdout",
          "text": [
            "[693.7842440605164, 687.0002851486206, 680.3075046539307, 673.7027094364166, 667.1799705028534, 660.7383699417114, 654.3736503124237, 648.0804352760315, 641.8558895587921, 635.6958141326904, 629.5938115119934, 623.5473554134369, 617.5566489696503, 611.6169664859772, 605.7230832576752, 599.8701512813568, 594.0566577911377, 588.2779381275177, 582.5304937362671, 576.810298204422, 571.1125133037567, 565.4357523918152, 559.7773404121399, 554.1329753398895, 548.5024389028549, 542.8810855150223, 537.2689448595047, 531.661897778511, 526.0601058006287, 520.4636586904526, 514.8661639690399, 509.26664888858795, 503.6646877527237, 498.0585308074951, 492.44687712192535, 486.82909393310547, 481.2070426940918, 475.5778831243515, 469.94325959682465, 464.30456578731537, 458.66007339954376, 453.0090626478195, 447.3523519039154, 441.69191539287567, 436.02467358112335, 430.3555405139923, 424.68491607904434, 419.01096349954605, 413.3357388973236, 407.6574454307556, 401.9782060980797, 396.3000537753105, 390.62478417158127, 384.95131397247314, 379.2786471247673, 373.6147429347038, 367.955144405365, 362.3068963289261, 356.6674935221672, 351.0380152463913, 345.4212522506714, 339.81685078144073, 334.2281005382538, 328.66005688905716, 323.1068893671036, 317.5741455554962, 312.06401258707047, 306.5746700465679, 301.1162958443165, 295.6823338866234, 290.28100514411926, 284.9098431169987, 279.57381477952003, 274.27705147862434, 269.0175051689148, 263.79910549521446, 258.6246835589409, 253.49342474341393, 248.40968212485313, 243.3772542476654, 238.39315938949585, 233.46260923147202, 228.58844235539436, 223.77158769965172, 219.0104195177555, 214.3124094605446, 209.67486026883125, 205.10090601444244, 200.59152995049953, 196.14973326027393, 191.77348938584328, 187.46625381708145, 183.22825863957405, 179.0586469322443, 174.95995530486107, 170.9326739013195, 166.97931504249573, 163.09651379287243, 159.28819073736668, 155.55435344576836]\n"
          ]
        }
      ],
      "source": [
        "VOCAB_SIZE = len(vocab)\n",
        "EMBEDD_DIM = 10\n",
        "BATCH_SIZE = 6\n",
        "FULL_CONTEXT_SIZE = CONTEXT_SIZE * 2\n",
        "HIDDEN_SIZE = 256\n",
        "\n",
        "loss_function = nn.NLLLoss() # Because we are using Log_softmax\n",
        "model = CBOW(vocab_size, EMBEDD_DIM, FULL_CONTEXT_SIZE, HIDDEN_SIZE)\n",
        "model = model.to(device)\n",
        "optimizer = optim.SGD(model.parameters(), lr=0.001)\n",
        "\n",
        "losses = train(model, 100, data, optimizer, loss_function)\n",
        "model.eval()\n",
        "\n",
        "print(losses)  # The loss decreased every iteration over the training data!"
      ]
    },
    {
      "cell_type": "code",
      "execution_count": 38,
      "metadata": {
        "id": "Zd3Gm2aR8m2F"
      },
      "outputs": [],
      "source": [
        "# list out keys and values separately\n",
        "key_list = list(word_to_ix.keys())\n",
        "val_list = list(word_to_ix.values())"
      ]
    },
    {
      "cell_type": "code",
      "execution_count": 39,
      "metadata": {
        "id": "d7Wd5nhQ8m2F"
      },
      "outputs": [],
      "source": [
        "def similarity_cbow(word_1, word_2):\n",
        "\n",
        "    # test word similarity\n",
        "    print(word_1)\n",
        "    print(word_2)\n",
        "    w1_id = torch.tensor(word_to_ix[word_1], dtype=torch.long)\n",
        "    w2_id = torch.tensor(word_to_ix[word_2], dtype=torch.long)\n",
        "    w1_id = w1_id.to(device)\n",
        "    w2_id = w2_id.to(device)\n",
        "\n",
        "    word_1_vec = model.get_word_vector(w1_id)\n",
        "    word_2_vec = model.get_word_vector(w2_id)\n",
        "\n",
        "    # The norm of a vector (1D-matrix) is the square root of the sum of all the squared values within the vector.\n",
        "    print(math.sqrt(torch.square(word_1_vec).sum()))\n",
        "    print(torch.linalg.norm(word_1_vec))\n",
        "    print(torch.linalg.norm(word_2_vec))\n",
        "    print(word_1_vec.dot(word_2_vec))\n",
        "\n",
        "    word_distance = torch.linalg.norm(word_1_vec - word_2_vec)\n",
        "    print(\"Distance between '{}' & '{}' : {:0.4f}\".format(word_1, word_2, word_distance))\n",
        "    word_similarity = (word_1_vec.dot(word_2_vec) / (torch.linalg.norm(word_1_vec) * torch.linalg.norm(word_2_vec)))\n",
        "    print(\"Similarity between '{}' & '{}' : {:0.4f}\".format(word_1, word_2, word_similarity))\n"
      ]
    },
    {
      "cell_type": "code",
      "execution_count": 40,
      "metadata": {
        "id": "RjRCXG6M8m2G",
        "outputId": "8c7b4ca0-7f56-43d1-b53e-669028a6fd92",
        "colab": {
          "base_uri": "https://localhost:8080/"
        }
      },
      "outputs": [
        {
          "output_type": "stream",
          "name": "stdout",
          "text": [
            "neural\n",
            "network\n",
            "1.810610542700516\n",
            "tensor(1.8106, grad_fn=<LinalgVectorNormBackward0>)\n",
            "tensor(3.0923, grad_fn=<LinalgVectorNormBackward0>)\n",
            "tensor(0.4089, grad_fn=<DotBackward0>)\n",
            "Distance between 'neural' & 'network' : 3.4674\n",
            "Similarity between 'neural' & 'network' : 0.0730\n"
          ]
        }
      ],
      "source": [
        "similarity_cbow(\"neural\", \"network\")"
      ]
    },
    {
      "cell_type": "code",
      "execution_count": 41,
      "metadata": {
        "id": "lEI6ZIsW8m2G"
      },
      "outputs": [],
      "source": [
        "def predict_middle_word(prev_words, post_words):\n",
        "    prev_words = prev_words.split()\n",
        "    post_words = post_words.split()\n",
        "\n",
        "    input_words= make_context_vector(prev_words + post_words, word_to_ix)\n",
        "    input_words = input_words.to(device)\n",
        "    output = model(input_words)\n",
        "    out_ind = output.argmax(1)\n",
        "#     print(word_to_ix)\n",
        "#     out_word = word_to_ix.itos[out_ind.item()]\n",
        "    out_word = key_list[val_list.index(out_ind.item())]\n",
        "    print(prev_words, out_word, post_words)"
      ]
    },
    {
      "cell_type": "code",
      "execution_count": 42,
      "metadata": {
        "id": "0-S7BCGQ8m2G",
        "outputId": "435c11f0-d0d2-430f-92ac-1422626e43ba",
        "colab": {
          "base_uri": "https://localhost:8080/"
        }
      },
      "outputs": [
        {
          "output_type": "stream",
          "name": "stdout",
          "text": [
            "['a', 'recurrent'] neural ['network', 'is']\n",
            "['LSTM', 'is'] for ['recurrent', 'neural']\n"
          ]
        }
      ],
      "source": [
        "predict_middle_word(\"a recurrent\", \"network is\")\n",
        "predict_middle_word(\"LSTM is\", \"recurrent neural\")"
      ]
    },
    {
      "cell_type": "markdown",
      "metadata": {
        "id": "Mz3yzxtH8m2G"
      },
      "source": [
        "### Now that you saw how to create the CBOW model (word2vec), you should work on doing the \"opposite\" model, Skip-Gram ###\n",
        "\n",
        "Skip-gram as you saw on the lectures, reverses the problem so you need to predict through the \"fake task\" the context of the input"
      ]
    },
    {
      "cell_type": "code",
      "source": [
        "class SkipGram(nn.Module):\n",
        "    def __init__(self, vocab_size, embed_dim):\n",
        "        super(SkipGram, self).__init__()\n",
        "        self.embedding_center = nn.Embedding(vocab_size, embed_dim)\n",
        "        self.embedding_context = nn.Embedding(vocab_size, embed_dim)\n",
        "\n",
        "    def forward(self, center_word):\n",
        "        center_embed = self.embedding_center(center_word)\n",
        "        return center_embed\n",
        "\n",
        "    def get_word_vector(self, word):\n",
        "        return self.embedding_center(word)\n",
        "\n",
        "# Create Skip-gram dataset (opposite of CBOW)\n",
        "skipgram_data = []\n",
        "for i in range(CONTEXT_SIZE, len(raw_text) - CONTEXT_SIZE):\n",
        "    center_word = raw_text[i]\n",
        "    context = []\n",
        "\n",
        "    # Get context words around center word\n",
        "    for j in range(CONTEXT_SIZE, 0, -1):\n",
        "        context.append(raw_text[i - j])\n",
        "    for j in range(1, CONTEXT_SIZE + 1):\n",
        "        context.append(raw_text[i + j])\n",
        "\n",
        "    # For Skip-gram: center word predicts each context word\n",
        "    for context_word in context:\n",
        "        skipgram_data.append((center_word, context_word))\n",
        "\n",
        "print(f\"Skip-gram data pairs: {len(skipgram_data)}\")\n",
        "print(\"First 5 pairs:\", skipgram_data[:5])\n",
        "\n",
        "def train_skipgram(model, epochs, data, optimizer, loss_fn):\n",
        "    model.train()\n",
        "    losses = []\n",
        "    for epoch in range(epochs):\n",
        "        total_loss = 0\n",
        "        for center_word, context_word in data:\n",
        "            # Prepare inputs\n",
        "            center_idx = torch.tensor([word_to_ix[center_word]], dtype=torch.long).to(device)\n",
        "            context_idx = torch.tensor([word_to_ix[context_word]], dtype=torch.long).to(device)\n",
        "\n",
        "            model.zero_grad()\n",
        "\n",
        "            # Forward pass\n",
        "            center_embed = model(center_idx)\n",
        "            context_embed = model.embedding_context(context_idx)\n",
        "\n",
        "            # Compute similarity (dot product)\n",
        "            score = torch.sum(center_embed * context_embed, dim=1)\n",
        "\n",
        "            # Negative sampling (simplified - just use other random words)\n",
        "            neg_samples = torch.randint(0, len(word_to_ix), (5,)).to(device)\n",
        "            neg_embeds = model.embedding_context(neg_samples)\n",
        "            neg_scores = torch.sum(center_embed * neg_embeds, dim=1)\n",
        "\n",
        "            # Loss: maximize positive score, minimize negative scores\n",
        "            pos_loss = -torch.log(torch.sigmoid(score))\n",
        "            neg_loss = -torch.sum(torch.log(torch.sigmoid(-neg_scores)))\n",
        "            loss = pos_loss + neg_loss\n",
        "\n",
        "            loss.backward()\n",
        "            optimizer.step()\n",
        "            total_loss += loss.item()\n",
        "\n",
        "        losses.append(total_loss)\n",
        "\n",
        "    return losses\n",
        "\n",
        "# Train Skip-gram model\n",
        "VOCAB_SIZE = len(vocab)\n",
        "EMBEDD_DIM = 10\n",
        "HIDDEN_SIZE = 256\n",
        "\n",
        "skipgram_model = SkipGram(vocab_size, EMBEDD_DIM)\n",
        "skipgram_model = skipgram_model.to(device)\n",
        "optimizer = optim.SGD(skipgram_model.parameters(), lr=0.01)\n",
        "\n",
        "print(\"Training Skip-gram model...\")\n",
        "skipgram_losses = train_skipgram(skipgram_model, 50, skipgram_data[:1000], optimizer, None)  # Use subset for faster training\n",
        "print(\"Skip-gram training completed!\")\n",
        "\n",
        "# Compare embeddings\n",
        "def compare_embeddings(word1, word2, cbow_model, skipgram_model):\n",
        "    print(f\"\\nComparing embeddings for '{word1}' and '{word2}':\")\n",
        "\n",
        "    w1_id = torch.tensor(word_to_ix[word1], dtype=torch.long).to(device)\n",
        "    w2_id = torch.tensor(word_to_ix[word2], dtype=torch.long).to(device)\n",
        "\n",
        "    # CBOW embeddings\n",
        "    cbow_w1 = cbow_model.get_word_vector(w1_id)\n",
        "    cbow_w2 = cbow_model.get_word_vector(w2_id)\n",
        "    cbow_sim = torch.dot(cbow_w1.flatten(), cbow_w2.flatten()) / (torch.norm(cbow_w1) * torch.norm(cbow_w2))\n",
        "\n",
        "    # Skip-gram embeddings\n",
        "    sg_w1 = skipgram_model.get_word_vector(w1_id)\n",
        "    sg_w2 = skipgram_model.get_word_vector(w2_id)\n",
        "    sg_sim = torch.dot(sg_w1.flatten(), sg_w2.flatten()) / (torch.norm(sg_w1) * torch.norm(sg_w2))\n",
        "\n",
        "    print(f\"CBOW similarity: {cbow_sim:.4f}\")\n",
        "    print(f\"Skip-gram similarity: {sg_sim:.4f}\")\n",
        "\n",
        "# Compare some word pairs\n",
        "compare_embeddings(\"neural\", \"network\", model, skipgram_model)  # model is the CBOW model from notebook\n",
        "compare_embeddings(\"LSTM\", \"RNN\", model, skipgram_model)"
      ],
      "metadata": {
        "id": "Huv7g-U3DK3T",
        "outputId": "2ac6ac06-8ab8-4bc2-9890-a7f3c2bdf752",
        "colab": {
          "base_uri": "https://localhost:8080/"
        }
      },
      "execution_count": 45,
      "outputs": [
        {
          "output_type": "stream",
          "name": "stdout",
          "text": [
            "Skip-gram data pairs: 592\n",
            "First 5 pairs: [('Memory', 'Long'), ('Memory', 'Short-Term'), ('Memory', '(LSTM)'), ('Memory', 'is'), ('(LSTM)', 'Short-Term')]\n",
            "Training Skip-gram model...\n",
            "Skip-gram training completed!\n",
            "\n",
            "Comparing embeddings for 'neural' and 'network':\n",
            "CBOW similarity: 0.0730\n",
            "Skip-gram similarity: 0.5538\n",
            "\n",
            "Comparing embeddings for 'LSTM' and 'RNN':\n",
            "CBOW similarity: -0.2257\n",
            "Skip-gram similarity: 0.5931\n"
          ]
        }
      ]
    }
  ],
  "metadata": {
    "kernelspec": {
      "display_name": "Python [conda env:pDL] *",
      "language": "python",
      "name": "conda-env-pDL-py"
    },
    "language_info": {
      "codemirror_mode": {
        "name": "ipython",
        "version": 3
      },
      "file_extension": ".py",
      "mimetype": "text/x-python",
      "name": "python",
      "nbconvert_exporter": "python",
      "pygments_lexer": "ipython3",
      "version": "3.8.2"
    },
    "colab": {
      "name": "1-word2vec.ipynb",
      "provenance": [],
      "include_colab_link": true
    }
  },
  "nbformat": 4,
  "nbformat_minor": 0
}