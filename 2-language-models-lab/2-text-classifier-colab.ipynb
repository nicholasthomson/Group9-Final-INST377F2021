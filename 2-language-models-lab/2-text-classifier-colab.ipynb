{
  "cells": [
    {
      "cell_type": "markdown",
      "metadata": {
        "id": "view-in-github",
        "colab_type": "text"
      },
      "source": [
        "<a href=\"https://colab.research.google.com/github/nicholasthomson/Group9-Final-INST377F2021/blob/main/2-language-models-lab/2-text-classifier-colab.ipynb\" target=\"_parent\"><img src=\"https://colab.research.google.com/assets/colab-badge.svg\" alt=\"Open In Colab\"/></a>"
      ]
    },
    {
      "cell_type": "markdown",
      "metadata": {
        "id": "L8LQKGuJuUF7"
      },
      "source": [
        "## Text Classification ##\n",
        "\n",
        "This notebook is based on this Pytorch tutorial: https://pytorch.org/tutorials/intermediate/char_rnn_classification_tutorial\n",
        "        \n",
        "In this notebook, we will train a network to learn how to classify the country of a name. In this example, we will tokenize per character rather than per word"
      ]
    },
    {
      "cell_type": "code",
      "execution_count": 29,
      "metadata": {
        "id": "ZvHJ9C9YuUF9"
      },
      "outputs": [],
      "source": [
        "from __future__ import unicode_literals, print_function, division\n",
        "from io import open\n",
        "import glob\n",
        "import os\n",
        "import unicodedata\n",
        "import string\n",
        "import random\n",
        "import time\n",
        "import math\n",
        "\n",
        "import torch\n",
        "import torch.nn as nn\n",
        "import torch.optim as optim\n",
        "from torch.optim import lr_scheduler\n",
        "\n",
        "import matplotlib.pyplot as plt\n",
        "import matplotlib.ticker as ticker"
      ]
    },
    {
      "cell_type": "code",
      "execution_count": 30,
      "metadata": {
        "id": "P0W-mTB_uUF9"
      },
      "outputs": [],
      "source": [
        "device = torch.device(\"cuda\" if torch.cuda.is_available() else \"cpu\")\n",
        "# device = \"cpu\""
      ]
    },
    {
      "cell_type": "code",
      "source": [
        "from google.colab import drive\n",
        "drive.mount('/content/drive')"
      ],
      "metadata": {
        "id": "g-jqpBAGuv-Z",
        "outputId": "d58282e5-f9d6-4b90-9fca-76357bcd8c6d",
        "colab": {
          "base_uri": "https://localhost:8080/"
        }
      },
      "execution_count": 31,
      "outputs": [
        {
          "output_type": "stream",
          "name": "stdout",
          "text": [
            "Drive already mounted at /content/drive; to attempt to forcibly remount, call drive.mount(\"/content/drive\", force_remount=True).\n"
          ]
        }
      ]
    },
    {
      "cell_type": "code",
      "source": [
        "#Change directories to point to your data!\n",
        "data_path = '/content/drive/MyDrive/ColabNotebooks'\n",
        "specific_path = '/content/drive/MyDrive/ColabNotebooks/data.zip'\n",
        "#!ls \"$root_dir\"\n",
        "root_dir = \"/content/data\"\n",
        "data_dir = root_dir + '/data/names'\n",
        "\n",
        "!unzip '/content/drive/MyDrive/ColabNotebooks/data.zip' -d \"$root_dir\""
      ],
      "metadata": {
        "id": "_iihhLl6vIwp",
        "outputId": "8e28597f-41f5-4137-a3f8-6824d5d53bd3",
        "colab": {
          "base_uri": "https://localhost:8080/"
        }
      },
      "execution_count": 32,
      "outputs": [
        {
          "output_type": "stream",
          "name": "stdout",
          "text": [
            "Archive:  /content/drive/MyDrive/ColabNotebooks/data.zip\n",
            "replace /content/data/data/eng-fra.txt? [y]es, [n]o, [A]ll, [N]one, [r]ename: y\n",
            "  inflating: /content/data/data/eng-fra.txt  \n",
            "replace /content/data/data/names/Arabic.txt? [y]es, [n]o, [A]ll, [N]one, [r]ename: y\n",
            "  inflating: /content/data/data/names/Arabic.txt  \n",
            "replace /content/data/data/names/Chinese.txt? [y]es, [n]o, [A]ll, [N]one, [r]ename: y\n",
            "  inflating: /content/data/data/names/Chinese.txt  \n",
            "replace /content/data/data/names/Czech.txt? [y]es, [n]o, [A]ll, [N]one, [r]ename: y\n",
            "  inflating: /content/data/data/names/Czech.txt  \n",
            "replace /content/data/data/names/Dutch.txt? [y]es, [n]o, [A]ll, [N]one, [r]ename: y\n",
            "  inflating: /content/data/data/names/Dutch.txt  \n",
            "replace /content/data/data/names/English.txt? [y]es, [n]o, [A]ll, [N]one, [r]ename: y\n",
            "  inflating: /content/data/data/names/English.txt  \n",
            "replace /content/data/data/names/French.txt? [y]es, [n]o, [A]ll, [N]one, [r]ename: y\n",
            "  inflating: /content/data/data/names/French.txt  \n",
            "replace /content/data/data/names/German.txt? [y]es, [n]o, [A]ll, [N]one, [r]ename: y\n",
            "  inflating: /content/data/data/names/German.txt  \n",
            "replace /content/data/data/names/Greek.txt? [y]es, [n]o, [A]ll, [N]one, [r]ename: y\n",
            "  inflating: /content/data/data/names/Greek.txt  \n",
            "replace /content/data/data/names/Irish.txt? [y]es, [n]o, [A]ll, [N]one, [r]ename: y\n",
            "  inflating: /content/data/data/names/Irish.txt  \n",
            "replace /content/data/data/names/Italian.txt? [y]es, [n]o, [A]ll, [N]one, [r]ename: y\n",
            "  inflating: /content/data/data/names/Italian.txt  \n",
            "replace /content/data/data/names/Japanese.txt? [y]es, [n]o, [A]ll, [N]one, [r]ename: y\n",
            "  inflating: /content/data/data/names/Japanese.txt  \n",
            "replace /content/data/data/names/Korean.txt? [y]es, [n]o, [A]ll, [N]one, [r]ename: y\n",
            "  inflating: /content/data/data/names/Korean.txt  \n",
            "replace /content/data/data/names/Polish.txt? [y]es, [n]o, [A]ll, [N]one, [r]ename: y\n",
            "  inflating: /content/data/data/names/Polish.txt  \n",
            "replace /content/data/data/names/Portuguese.txt? [y]es, [n]o, [A]ll, [N]one, [r]ename: y\n",
            "  inflating: /content/data/data/names/Portuguese.txt  \n",
            "replace /content/data/data/names/Russian.txt? [y]es, [n]o, [A]ll, [N]one, [r]ename: y\n",
            "  inflating: /content/data/data/names/Russian.txt  \n",
            "replace /content/data/data/names/Scottish.txt? [y]es, [n]o, [A]ll, [N]one, [r]ename: y\n",
            "  inflating: /content/data/data/names/Scottish.txt  \n",
            "replace /content/data/data/names/Spanish.txt? [y]es, [n]o, [A]ll, [N]one, [r]ename: y\n",
            "  inflating: /content/data/data/names/Spanish.txt  \n",
            "replace /content/data/data/names/Vietnamese.txt? [y]es, [n]o, [A]ll, [N]one, [r]ename: y\n",
            "  inflating: /content/data/data/names/Vietnamese.txt  \n"
          ]
        }
      ]
    },
    {
      "cell_type": "code",
      "execution_count": 33,
      "metadata": {
        "id": "Bgf97XnluUF-",
        "outputId": "c7f8c16c-83c6-409d-c9f1-3b7e9c7f2cd6",
        "colab": {
          "base_uri": "https://localhost:8080/"
        }
      },
      "outputs": [
        {
          "output_type": "stream",
          "name": "stdout",
          "text": [
            "57\n",
            "Slusarski\n"
          ]
        }
      ],
      "source": [
        "# Vocabulary\n",
        "all_letters = string.ascii_letters + \" .,;'\"\n",
        "n_letters = len(all_letters)\n",
        "\n",
        "print(n_letters)\n",
        "\n",
        "# Turn a Unicode string to plain ASCII, thanks to https://stackoverflow.com/a/518232/2809427\n",
        "def unicodeToAscii(s):\n",
        "    return ''.join(\n",
        "        c for c in unicodedata.normalize('NFD', s)\n",
        "        if unicodedata.category(c) != 'Mn'\n",
        "        and c in all_letters\n",
        "    )\n",
        "\n",
        "print(unicodeToAscii('Ślusàrski'))"
      ]
    },
    {
      "cell_type": "code",
      "execution_count": 34,
      "metadata": {
        "id": "92gHaPfOuUF_",
        "outputId": "5ff2213f-a45b-40d3-fd68-ea90efadbe9f",
        "colab": {
          "base_uri": "https://localhost:8080/"
        }
      },
      "outputs": [
        {
          "output_type": "stream",
          "name": "stdout",
          "text": [
            "['/content/data/data/names/Polish.txt', '/content/data/data/names/English.txt', '/content/data/data/names/Chinese.txt', '/content/data/data/names/Dutch.txt', '/content/data/data/names/Irish.txt', '/content/data/data/names/Russian.txt', '/content/data/data/names/Italian.txt', '/content/data/data/names/Japanese.txt', '/content/data/data/names/Portuguese.txt', '/content/data/data/names/Vietnamese.txt', '/content/data/data/names/Arabic.txt', '/content/data/data/names/Scottish.txt', '/content/data/data/names/Korean.txt', '/content/data/data/names/French.txt', '/content/data/data/names/Spanish.txt', '/content/data/data/names/Czech.txt', '/content/data/data/names/Greek.txt', '/content/data/data/names/German.txt']\n",
            "18\n"
          ]
        }
      ],
      "source": [
        "def findFiles(path): return glob.glob(path)\n",
        "\n",
        "print(findFiles(data_dir + '/*.txt'))\n",
        "\n",
        "# Build the category_lines dictionary, a list of names per language\n",
        "category_lines = {}\n",
        "all_categories = []\n",
        "\n",
        "# Read a file and split into lines\n",
        "def readLines(filename):\n",
        "    lines = open(filename, encoding='utf-8').read().strip().split('\\n')\n",
        "    return [unicodeToAscii(line) for line in lines]\n",
        "\n",
        "for filename in findFiles(data_dir + '/*.txt'):\n",
        "    category = os.path.splitext(os.path.basename(filename))[0]\n",
        "    all_categories.append(category)\n",
        "    lines = readLines(filename)\n",
        "    category_lines[category] = lines\n",
        "\n",
        "n_categories = len(all_categories)\n",
        "print(n_categories) # Classes\n",
        "# print(category_lines)"
      ]
    },
    {
      "cell_type": "code",
      "execution_count": 35,
      "metadata": {
        "id": "ow4ebeBSuUF_",
        "outputId": "03c48541-382d-432e-a588-712bafb36e65",
        "colab": {
          "base_uri": "https://localhost:8080/"
        }
      },
      "outputs": [
        {
          "output_type": "stream",
          "name": "stdout",
          "text": [
            "['Adamidis', 'Adamou', 'Agelakos', 'Akrivopoulos', 'Alexandropoulos']\n",
            "['Abana', 'Abano', 'Abarca', 'Abaroa', 'Abascal', 'Abasolo', 'Abel', 'Abello', 'Aberquero', 'Abreu', 'Acosta', 'Agramunt', 'Aiza', 'Alamilla', 'Albert', 'Albuquerque', 'Aldana', 'Alfaro', 'Alvarado', 'Alvarez', 'Alves', 'Amador', 'Andreu', 'Antunez', 'Aqua', 'Aquino', 'Araujo', 'Araullo', 'Araya', 'Arce', 'Arechavaleta', 'Arena', 'Aritza', 'Armando', 'Arreola', 'Arriola', 'Asis', 'Asturias', 'Avana', 'Azarola', 'Banderas', 'Barros', 'Basurto', 'Bautista', 'Bello', 'Belmonte', 'Bengochea', 'Benitez', 'Bermudez', 'Blanco', 'Blanxart', 'Bolivar', 'Bonaventura', 'Bosque', 'Bustillo', 'Busto', 'Bustos', 'Cabello', 'Cabrera', 'Campo', 'Campos', 'Capello', 'Cardona', 'Caro', 'Casales', 'Castell', 'Castellano', 'Castillion', 'Castillo', 'Castro', 'Chavarria', 'Chavez', 'Colon', 'Costa', 'Crespo', 'Cruz', 'Cuellar', 'Cuevas', \"D'cruz\", \"D'cruze\", 'De la cruz', 'De la fuente', 'Del bosque', 'De leon', 'Delgado', 'Del olmo', 'De santigo', 'Diaz', 'Dominguez', 'Duarte', 'Durante', 'Echevarria', 'Echeverria', 'Elizondo', 'Escamilla', 'Escarcega', 'Escarra', 'Esparza', 'Espina', 'Espino', 'Espinosa', 'Espinoza', 'Estevez', 'Etxebarria', 'Etxeberria', 'Felix', 'Fernandez', 'Ferrer', 'Fierro', 'Flores', 'Fonseca', 'Franco', 'Fuentes', 'Gallego', 'Gallo', 'Garcia', 'Garrastazu', 'Garza', 'Gaspar', 'Gebara', 'Gomez', 'Gonzales', 'Gonzalez', 'Grec', 'Guadarrama', 'Guerra', 'Guerrero', 'Gutierrez', 'Gutierrez', 'Hernandez', 'Herrera', 'Herrero', 'Hierro', 'Holguin', 'Huerta', 'Ibanez', 'Ibarra', 'Iniguez', 'Iturburua', 'Jaso', 'Jasso', 'Jimenez', 'Jorda', 'Juarez', 'Lobo', 'Lopez', 'Losa', 'Loyola', 'Machado', 'Macias', 'Maradona', 'Maria', 'Marino', 'Marquez', 'Martell', 'Marti', 'Martinez', 'Martinez', 'Mas', 'Mata', 'Mateu', 'Medina', 'Melendez', 'Mendez', 'Mendoza', 'Menendez', 'Merlo', 'Michel', 'Mingo', 'Moles', 'Molina', 'Montero', 'Morales', 'Moralez', 'Moreno', 'Narvaez', 'Nieves', 'Noguerra', 'Nunez', 'Obando', 'Ochoa', 'Ojeda', 'Ola', 'Oleastro', 'Olguin', 'Oliver', 'Olmos', 'Oquendo', 'Orellana', 'Oriol', 'Ortega', 'Ortiz', 'Palomo', 'Paredes', 'Pavia', 'Pelaez', 'Pena', 'Perez', 'Perez', 'Petit', 'Picasso', 'Porra', 'Porras', 'Prieto', 'Puerta', 'Puga', 'Puig', 'Quinones', 'Quintana', 'Quiros', 'Ramirez', 'Ramos', 'Rana', 'Rendon', 'Rey', 'Reyes', 'Rios', 'Rivera', 'Rivero', 'Robledo', 'Robles', 'Rocha', 'Rodriguez', 'Rodriquez', 'Roig', 'Rojas', 'Rojo', 'Roldan', 'Roma', 'Roma', 'Romero', 'Rosa', 'Rosales', 'Rubio', 'Ruiz', 'Sala', 'Salamanca', 'Salazar', 'Salcedo', 'Salinas', 'Sanchez', 'Sandoval', 'San nicolas', 'Santana', 'Santiago', 'Santillian', 'Santos', 'Sastre', 'Sepulveda', 'Sierra', 'Silva', 'Soler', 'Solo', 'Solos', 'Soto', 'Suarez', 'Suero', 'Tapia', 'Terrazas', 'Tomas', 'Torres', 'Tos', 'Tosell', 'Toset', 'Travieso', 'Trujillo', 'Ubina', 'Urbina', 'Urena', 'Valdez', 'Valencia', 'Varela', 'Vargas', 'Vasquez', 'Vazquez', 'Vega', 'Vela', 'Vela', 'Velazquez', 'Ventura', 'Vicario', 'Vilaro', 'Villa', 'Villalobos', 'Villanueva', 'Villaverde', 'Viola', 'Viteri', 'Vivas', 'Vives', 'Ybarra', 'Zabala', 'Zambrano', 'Zamorano', 'Zapatero', 'Zavala', 'Zubizarreta', 'Zuniga']\n"
          ]
        }
      ],
      "source": [
        "print(category_lines['Greek'][:5])\n",
        "print(category_lines['Spanish'])"
      ]
    },
    {
      "cell_type": "markdown",
      "metadata": {
        "id": "DsC2K5HNuUF_"
      },
      "source": [
        "### Make everything into one-hot vector ###\n",
        "\n",
        "For it to be used (transform into a tensor). Here we are doing a character-based one-hot vector"
      ]
    },
    {
      "cell_type": "code",
      "execution_count": 36,
      "metadata": {
        "id": "DxTCIJJ_uUGA",
        "outputId": "9f93b436-fce8-414a-b9fa-dc43fbe69e34",
        "colab": {
          "base_uri": "https://localhost:8080/"
        }
      },
      "outputs": [
        {
          "output_type": "stream",
          "name": "stdout",
          "text": [
            "tensor([[0., 0., 0., 0., 0., 0., 0., 0., 0., 0., 0., 0., 0., 0., 0., 0., 0., 0.,\n",
            "         0., 0., 0., 0., 0., 0., 0., 0., 0., 0., 0., 0., 0., 0., 0., 0., 0., 1.,\n",
            "         0., 0., 0., 0., 0., 0., 0., 0., 0., 0., 0., 0., 0., 0., 0., 0., 0., 0.,\n",
            "         0., 0., 0.]])\n",
            "tensor([[0., 0., 0., 0., 0., 0., 0., 0., 0., 0., 0., 0., 0., 0., 1., 0., 0., 0.,\n",
            "         0., 0., 0., 0., 0., 0., 0., 0., 0., 0., 0., 0., 0., 0., 0., 0., 0., 0.,\n",
            "         0., 0., 0., 0., 0., 0., 0., 0., 0., 0., 0., 0., 0., 0., 0., 0., 0., 0.,\n",
            "         0., 0., 0.]])\n",
            "torch.Size([5, 1, 57])\n"
          ]
        }
      ],
      "source": [
        "# Find letter index from all_letters, e.g. \"a\" = 0\n",
        "def letterToIndex(letter):\n",
        "    return all_letters.find(letter)\n",
        "\n",
        "# Just for demonstration, turn a letter into a <1 x n_letters> Tensor\n",
        "def letterToTensor(letter):\n",
        "    tensor = torch.zeros(1, n_letters)\n",
        "    tensor[0][letterToIndex(letter)] = 1\n",
        "    return tensor\n",
        "\n",
        "# Turn a line into a <line_length x 1 x n_letters>,\n",
        "# or an array of one-hot letter vectors\n",
        "def lineToTensor(line):\n",
        "    tensor = torch.zeros(len(line), 1, n_letters)\n",
        "    for li, letter in enumerate(line):\n",
        "        tensor[li][0][letterToIndex(letter)] = 1\n",
        "    return tensor\n",
        "\n",
        "print(letterToTensor('J'))\n",
        "print(letterToTensor('o'))\n",
        "print(lineToTensor('Jones').size())"
      ]
    },
    {
      "cell_type": "code",
      "execution_count": 37,
      "metadata": {
        "id": "DVFbr4OhuUGA"
      },
      "outputs": [],
      "source": [
        "class RNN(nn.Module):\n",
        "    def __init__(self, input_size, hidden_size, output_size):\n",
        "        super(RNN, self).__init__()\n",
        "\n",
        "        self.hidden_size = hidden_size\n",
        "\n",
        "        self.hidden_comp = nn.Linear(input_size + hidden_size, hidden_size)\n",
        "        self.output_comp = nn.Linear(input_size + hidden_size, hidden_size)\n",
        "        self.output2output = nn.Linear(hidden_size, output_size)\n",
        "        self.tanh_act = nn.Tanh()\n",
        "        self.lsoftmax = nn.LogSoftmax(dim=1)\n",
        "\n",
        "    def forward(self, x, hidden):\n",
        "#         print(x.shape)\n",
        "\n",
        "        combined = torch.cat((x, hidden), 1)\n",
        "        hidden = self.hidden_comp(combined)\n",
        "        hidden = self.tanh_act(hidden)\n",
        "#         print(hidden.shape)\n",
        "\n",
        "        output = self.output_comp(combined)\n",
        "        output = self.tanh_act(output)\n",
        "#         print(output.shape)\n",
        "        output = self.output2output(output)\n",
        "        output = self.lsoftmax(output)\n",
        "#         print(output.shape)\n",
        "\n",
        "        return output, hidden\n",
        "\n",
        "    def initHidden(self):\n",
        "        return torch.zeros(1, self.hidden_size)\n",
        "\n",
        "n_hidden = 128\n",
        "rnn = RNN(n_letters, n_hidden, n_categories)"
      ]
    },
    {
      "cell_type": "markdown",
      "metadata": {
        "id": "RYv3BheauUGB"
      },
      "source": [
        "To run a step of this network we need to pass an input (in our case, the Tensor for the current letter) and a previous hidden state (which we initialize as zeros at first). We’ll get back the output (probability of each language) and a next hidden state (which we keep for the next step)."
      ]
    },
    {
      "cell_type": "code",
      "execution_count": 38,
      "metadata": {
        "id": "EMZ2mbjuuUGB",
        "outputId": "d999cc91-7052-4d9d-dee5-c29bfb5a6d77",
        "colab": {
          "base_uri": "https://localhost:8080/"
        }
      },
      "outputs": [
        {
          "output_type": "stream",
          "name": "stdout",
          "text": [
            "torch.Size([1, 57])\n",
            "torch.Size([1, 128])\n",
            "tensor([7])\n",
            "tensor([[ 7,  1, 17]])\n"
          ]
        }
      ],
      "source": [
        "x = letterToTensor('A')\n",
        "print(x.shape)\n",
        "hidden =torch.zeros(1, n_hidden)\n",
        "hidden = rnn.initHidden()\n",
        "print(hidden.shape)\n",
        "\n",
        "output, next_hidden = rnn(x, hidden)\n",
        "print(output.argmax(-1))\n",
        "print(output.topk(3).indices)"
      ]
    },
    {
      "cell_type": "code",
      "execution_count": 39,
      "metadata": {
        "id": "Pb05odt2uUGB",
        "outputId": "4aa97e01-0e1d-4351-d6c2-690fd6f28158",
        "colab": {
          "base_uri": "https://localhost:8080/"
        }
      },
      "outputs": [
        {
          "output_type": "stream",
          "name": "stdout",
          "text": [
            "tensor([0])\n"
          ]
        }
      ],
      "source": [
        "x = lineToTensor('Alberto')\n",
        "hidden = torch.zeros(1, n_hidden)\n",
        "\n",
        "output, next_hidden = rnn(x[0], hidden)\n",
        "output, next_hidden = rnn(x[1], next_hidden)\n",
        "output, next_hidden = rnn(x[2], next_hidden)\n",
        "output, next_hidden = rnn(x[3], next_hidden)\n",
        "output, next_hidden = rnn(x[4], next_hidden)\n",
        "output, next_hidden = rnn(x[5], next_hidden)\n",
        "output, next_hidden = rnn(x[6], next_hidden)\n",
        "print(output.argmax(-1))"
      ]
    },
    {
      "cell_type": "markdown",
      "metadata": {
        "id": "7ZH4fIXmuUGC"
      },
      "source": [
        "## Preparing for training! ##"
      ]
    },
    {
      "cell_type": "code",
      "execution_count": 40,
      "metadata": {
        "id": "aHhkw2PfuUGC",
        "outputId": "1ffc8048-7fc4-4570-fb97-84a1753ffc24",
        "colab": {
          "base_uri": "https://localhost:8080/"
        }
      },
      "outputs": [
        {
          "output_type": "stream",
          "name": "stdout",
          "text": [
            "('Polish', 0)\n"
          ]
        }
      ],
      "source": [
        "# Helper function to get the actual category from the best\n",
        "\n",
        "def categoryFromOutput(output):\n",
        "    top_n, top_i = output.topk(1)\n",
        "    category_i = top_i[0].item()\n",
        "    return all_categories[category_i], category_i\n",
        "\n",
        "print(categoryFromOutput(output))"
      ]
    },
    {
      "cell_type": "markdown",
      "metadata": {
        "id": "wcJkVs-0uUGC"
      },
      "source": [
        "### Quick way to get training example (Src = Name, Trg = Language) ###"
      ]
    },
    {
      "cell_type": "code",
      "execution_count": 41,
      "metadata": {
        "id": "2C8qeLDPuUGC",
        "outputId": "8828d223-12dc-42bc-cd3d-a1dd03476521",
        "colab": {
          "base_uri": "https://localhost:8080/"
        }
      },
      "outputs": [
        {
          "output_type": "stream",
          "name": "stdout",
          "text": [
            "category = Korean / line = Ma\n",
            "category = Dutch / line = Schoonenburg\n",
            "category = Czech / line = Karlovsky\n",
            "category = Italian / line = Somma\n",
            "category = Vietnamese / line = Chung\n",
            "category = Irish / line = Cnaimhin\n",
            "category = Chinese / line = Tow\n",
            "category = Chinese / line = Qiu\n",
            "category = Dutch / line = Klerx\n",
            "category = Japanese / line = Fuwa\n"
          ]
        }
      ],
      "source": [
        "def randomChoice(l):\n",
        "    return l[random.randint(0, len(l) - 1)]\n",
        "\n",
        "def randomTrainingExample():\n",
        "    category = randomChoice(all_categories)\n",
        "    line = randomChoice(category_lines[category])\n",
        "    category_tensor = torch.tensor([all_categories.index(category)], dtype=torch.long)\n",
        "    line_tensor = lineToTensor(line)\n",
        "    return category, line, category_tensor, line_tensor\n",
        "\n",
        "for i in range(10):\n",
        "    category, line, category_tensor, line_tensor = randomTrainingExample()\n",
        "    print('category =', category, '/ line =', line)"
      ]
    },
    {
      "cell_type": "code",
      "execution_count": 42,
      "metadata": {
        "id": "SNiUZiPzuUGC"
      },
      "outputs": [],
      "source": [
        "def timeSince(since):\n",
        "    now = time.time()\n",
        "    s = now - since\n",
        "    m = math.floor(s / 60)\n",
        "    s -= m * 60\n",
        "    return '%dm %ds' % (m, s)\n"
      ]
    },
    {
      "cell_type": "markdown",
      "metadata": {
        "id": "u8anePKNuUGD"
      },
      "source": [
        "## Train now!!! ##"
      ]
    },
    {
      "cell_type": "code",
      "execution_count": 43,
      "metadata": {
        "id": "sn6VaoZluUGD"
      },
      "outputs": [],
      "source": [
        "def train(category_tensor, line_tensor, optim, criterion, model):\n",
        "\n",
        "    model.train()\n",
        "    hidden = model.initHidden()\n",
        "    model.zero_grad()\n",
        "\n",
        "    category_tensor = category_tensor.to(device)\n",
        "    line_tensor = line_tensor.to(device)\n",
        "\n",
        "    # Iterate through the whole line!\n",
        "    for i in range(line_tensor.size()[0]):\n",
        "        hidden = hidden.to(device)\n",
        "        output, hidden = model(line_tensor[i], hidden)\n",
        "\n",
        "    loss = criterion(output, category_tensor)\n",
        "\n",
        "    # zero the parameter gradients\n",
        "    optim.zero_grad()\n",
        "    loss.backward()\n",
        "    optim.step()\n",
        "\n",
        "    return output, loss.item()"
      ]
    },
    {
      "cell_type": "markdown",
      "metadata": {
        "id": "PvFb32TruUGD"
      },
      "source": [
        "#### Train with the RNN from scrath ####"
      ]
    },
    {
      "cell_type": "code",
      "execution_count": 44,
      "metadata": {
        "id": "hJsjzrjRuUGD",
        "outputId": "9e8ad495-af86-4f52-fe1d-0dabe499a6ac",
        "colab": {
          "base_uri": "https://localhost:8080/"
        }
      },
      "outputs": [
        {
          "output_type": "stream",
          "name": "stdout",
          "text": [
            "5000 50% (0m 14s) 2.7528 Agnusdei / Russian ✗ (Italian)\n",
            "10000 100% (0m 28s) 1.9238 Fukunaka / Japanese ✓\n"
          ]
        }
      ],
      "source": [
        "criterion = nn.NLLLoss() # Because we are using Log_softmax\n",
        "learning_rate = 0.005 # If you set this too high, it might explode. If too low, it might not learn\n",
        "N_HIDDEN = 128\n",
        "\n",
        "model_basic = RNN(n_letters, N_HIDDEN, n_categories) #Vocab_size, hidden size, output classes\n",
        "model_basic = model_basic.to(device)\n",
        "optimizer = optim.SGD(model_basic.parameters(), lr=learning_rate)\n",
        "\n",
        "n_iters = 10000\n",
        "print_every = 5000\n",
        "plot_every = 1000\n",
        "\n",
        "# Keep track of losses for plotting\n",
        "current_loss = 0\n",
        "all_losses = []\n",
        "\n",
        "start = time.time()\n",
        "\n",
        "for iter in range(1, n_iters + 1):\n",
        "    category, line, category_tensor, line_tensor = randomTrainingExample()\n",
        "    output, loss = train(category_tensor, line_tensor, optimizer, criterion, model_basic)\n",
        "    current_loss += loss\n",
        "\n",
        "    # Print iter number, loss, name and guess\n",
        "    if iter % print_every == 0:\n",
        "        guess, guess_i = categoryFromOutput(output)\n",
        "        correct = '✓' if guess == category else '✗ (%s)' % category\n",
        "        print('%d %d%% (%s) %.4f %s / %s %s' % (iter, iter / n_iters * 100, timeSince(start), loss, line, guess, correct))\n",
        "\n",
        "    # Add current loss avg to list of losses\n",
        "    if iter % plot_every == 0:\n",
        "        all_losses.append(current_loss / plot_every)\n",
        "        current_loss = 0"
      ]
    },
    {
      "cell_type": "code",
      "execution_count": 45,
      "metadata": {
        "id": "Cht6CoG8uUGD",
        "outputId": "93022356-55fe-47e5-cc52-63c446a2214f",
        "colab": {
          "base_uri": "https://localhost:8080/",
          "height": 448
        }
      },
      "outputs": [
        {
          "output_type": "execute_result",
          "data": {
            "text/plain": [
              "[<matplotlib.lines.Line2D at 0x7d07be39a290>]"
            ]
          },
          "metadata": {},
          "execution_count": 45
        },
        {
          "output_type": "display_data",
          "data": {
            "text/plain": [
              "<Figure size 640x480 with 1 Axes>"
            ],
            "image/png": "[encoded data removed]"
          },
          "metadata": {}
        }
      ],
      "source": [
        "# PLOT THE RESULT\n",
        "\n",
        "import matplotlib.pyplot as plt\n",
        "import matplotlib.ticker as ticker\n",
        "\n",
        "plt.figure()\n",
        "plt.plot(all_losses)"
      ]
    },
    {
      "cell_type": "markdown",
      "metadata": {
        "id": "kg7esg4muUGD"
      },
      "source": [
        "## Evaluate the results with a confusion matrix! ##"
      ]
    },
    {
      "cell_type": "code",
      "execution_count": 46,
      "metadata": {
        "id": "uzKItQSsuUGD",
        "outputId": "3141d9b0-f5e8-4450-e770-0c65aa4486c1",
        "colab": {
          "base_uri": "https://localhost:8080/",
          "height": 597
        }
      },
      "outputs": [
        {
          "output_type": "stream",
          "name": "stderr",
          "text": [
            "<ipython-input-46-6c681d05ba9d>:36: UserWarning: set_ticklabels() should only be used with a fixed number of ticks, i.e. after set_ticks() or using a FixedLocator.\n",
            "  ax.set_xticklabels([''] + all_categories, rotation=90)\n",
            "<ipython-input-46-6c681d05ba9d>:37: UserWarning: set_ticklabels() should only be used with a fixed number of ticks, i.e. after set_ticks() or using a FixedLocator.\n",
            "  ax.set_yticklabels([''] + all_categories)\n"
          ]
        },
        {
          "output_type": "display_data",
          "data": {
            "text/plain": [
              "<Figure size 640x480 with 2 Axes>"
            ],
            "image/png": "[encoded data removed]"
          },
          "metadata": {}
        }
      ],
      "source": [
        "# Keep track of correct guesses in a confusion matrix\n",
        "confusion = torch.zeros(n_categories, n_categories)\n",
        "n_confusion = 10000\n",
        "\n",
        "# Just return an output given a line\n",
        "def evaluate(line_tensor, model):\n",
        "    model.eval()\n",
        "    hidden = model.initHidden()\n",
        "    line_tensor = line_tensor.to(device)\n",
        "\n",
        "    for i in range(line_tensor.size()[0]):\n",
        "        hidden = hidden.to(device)\n",
        "        output, hidden = model(line_tensor[i], hidden)\n",
        "\n",
        "    return output\n",
        "\n",
        "# Go through a bunch of examples and record which are correctly guessed\n",
        "for i in range(n_confusion):\n",
        "    category, line, category_tensor, line_tensor = randomTrainingExample()\n",
        "    output = evaluate(line_tensor, model_basic)\n",
        "    guess, guess_i = categoryFromOutput(output)\n",
        "    category_i = all_categories.index(category)\n",
        "    confusion[category_i][guess_i] += 1\n",
        "\n",
        "# Normalize by dividing every row by its sum\n",
        "for i in range(n_categories):\n",
        "    confusion[i] = confusion[i] / confusion[i].sum()\n",
        "\n",
        "# Set up plot\n",
        "fig = plt.figure()\n",
        "ax = fig.add_subplot(111)\n",
        "cax = ax.matshow(confusion.numpy())\n",
        "fig.colorbar(cax)\n",
        "\n",
        "# Set up axes\n",
        "ax.set_xticklabels([''] + all_categories, rotation=90)\n",
        "ax.set_yticklabels([''] + all_categories)\n",
        "\n",
        "# Force label at every tick\n",
        "ax.xaxis.set_major_locator(ticker.MultipleLocator(1))\n",
        "ax.yaxis.set_major_locator(ticker.MultipleLocator(1))\n",
        "\n",
        "# sphinx_gallery_thumbnail_number = 2\n",
        "plt.show()"
      ]
    },
    {
      "cell_type": "markdown",
      "metadata": {
        "id": "kmsE1es5uUGE"
      },
      "source": [
        "## Now we can try predicting our own things! ##"
      ]
    },
    {
      "cell_type": "code",
      "execution_count": 47,
      "metadata": {
        "id": "riBQ2g2iuUGE",
        "outputId": "895fffa1-f8f6-457a-ec7e-fccae6a4c9c8",
        "colab": {
          "base_uri": "https://localhost:8080/"
        }
      },
      "outputs": [
        {
          "output_type": "stream",
          "name": "stdout",
          "text": [
            "\n",
            "> Dovesky\n",
            "(-1.78) Polish\n",
            "(-1.85) Russian\n",
            "(-2.48) Dutch\n",
            "\n",
            "> Jackson\n",
            "(-1.92) Russian\n",
            "(-2.14) Dutch\n",
            "(-2.16) Scottish\n",
            "\n",
            "> Satoshi\n",
            "(-1.39) Italian\n",
            "(-1.85) Polish\n",
            "(-2.23) Japanese\n",
            "\n",
            "> Alberto\n",
            "(-1.57) Italian\n",
            "(-1.70) Portuguese\n",
            "(-1.87) Spanish\n"
          ]
        }
      ],
      "source": [
        "def predict(input_line, n_predictions=3):\n",
        "    print('\\n> %s' % input_line)\n",
        "    with torch.no_grad():\n",
        "        output = evaluate(lineToTensor(input_line), model_basic)\n",
        "\n",
        "        # Get top N categories\n",
        "        topv, topi = output.topk(n_predictions, 1, True)\n",
        "        predictions = []\n",
        "\n",
        "        for i in range(n_predictions):\n",
        "            value = topv[0][i].item()\n",
        "            category_index = topi[0][i].item()\n",
        "            print('(%.2f) %s' % (value, all_categories[category_index]))\n",
        "            predictions.append([value, all_categories[category_index]])\n",
        "\n",
        "predict('Dovesky')\n",
        "predict('Jackson')\n",
        "predict('Satoshi')\n",
        "predict('Alberto')"
      ]
    },
    {
      "cell_type": "markdown",
      "metadata": {
        "id": "xwp5RUYAuUGE"
      },
      "source": [
        "### So now lets shift to using the RNN Module from Pytorch ###"
      ]
    },
    {
      "cell_type": "code",
      "execution_count": 48,
      "metadata": {
        "id": "hTRGi1tvuUGE",
        "outputId": "8cdfe97a-a3d8-4f9b-aa28-8ee711a20061",
        "colab": {
          "base_uri": "https://localhost:8080/"
        }
      },
      "outputs": [
        {
          "output_type": "stream",
          "name": "stdout",
          "text": [
            "category = Japanese / line = Tadeshi\n",
            "category = Polish / line = Kasprzak\n",
            "category = Dutch / line = Mooren\n",
            "category = Portuguese / line = De santigo\n",
            "category = Russian / line = Vaksel\n",
            "category = Chinese / line = Sha\n",
            "category = Czech / line = Kaiser\n",
            "category = Japanese / line = Kimiyama\n",
            "category = Japanese / line = Shinozaki\n",
            "category = Vietnamese / line = Lam\n"
          ]
        }
      ],
      "source": [
        "def categoryToTensor(category):\n",
        "#     tensor = torch.zeros([1, 1], dtype=torch.long)\n",
        "#     tensor[0][0] = all_categories.index(category)\n",
        "    tensor = torch.zeros([1, len(all_categories)], dtype=torch.long)\n",
        "    tensor[0][all_categories.index(category)] = 1\n",
        "    return tensor\n",
        "\n",
        "def randomChoice(l):\n",
        "    return l[random.randint(0, len(l) - 1)]\n",
        "\n",
        "def randomTrainingExample():\n",
        "    category = randomChoice(all_categories)\n",
        "    line = randomChoice(category_lines[category])\n",
        "    category_tensor = categoryToTensor(category)\n",
        "    line_tensor = lineToTensor(line)\n",
        "    return category, line, category_tensor, line_tensor\n",
        "\n",
        "for i in range(10):\n",
        "    category, line, category_tensor, line_tensor = randomTrainingExample()\n",
        "    print('category =', category, '/ line =', line)\n",
        "#     print(category_tensor.shape)"
      ]
    },
    {
      "cell_type": "code",
      "execution_count": 49,
      "metadata": {
        "id": "aV7pI3_CuUGE"
      },
      "outputs": [],
      "source": [
        "class RNNPytorch(nn.Module):\n",
        "    def __init__(self, input_size, hidden_size, output_size):\n",
        "        super(RNNPytorch, self).__init__()\n",
        "\n",
        "        self.hidden_size = hidden_size\n",
        "\n",
        "        self.rnn = nn.RNN(input_size, hidden_size, num_layers=1, batch_first=True) # 1 is num_layers\n",
        "        self.fc = nn.Linear(hidden_size, output_size)\n",
        "        self.lsoftmax = nn.LogSoftmax(dim=1)\n",
        "\n",
        "    def forward(self, x, hidden):\n",
        "\n",
        "        hidden, output = self.rnn(x, hidden)\n",
        "\n",
        "        output = output.contiguous().view(-1, self.hidden_size)\n",
        "        output = self.fc(output)\n",
        "        output = self.lsoftmax(output)\n",
        "\n",
        "        return output, hidden\n",
        "\n",
        "    def initHidden(self, batch_size):\n",
        "        return torch.zeros(1, 1, self.hidden_size)"
      ]
    },
    {
      "cell_type": "code",
      "execution_count": 50,
      "metadata": {
        "id": "ym7RVeKHuUGE"
      },
      "outputs": [],
      "source": [
        "def train_pytorch_model(category_tensor, line_tensor, optim, criterion, model):\n",
        "\n",
        "    model.train()\n",
        "    hidden = model.initHidden(line_tensor.shape[1])\n",
        "    model.zero_grad()\n",
        "    line_tensor = line_tensor.permute(1, 0, 2)\n",
        "#     print(line_tensor.shape)\n",
        "\n",
        "#     print(category_tensor.shape)\n",
        "    category_tensor = category_tensor.to(device)\n",
        "    line_tensor = line_tensor.to(device)\n",
        "\n",
        "    # Iterate through the whole line!\n",
        "    hidden = hidden.to(device)\n",
        "    output, hidden = model(line_tensor, hidden)\n",
        "\n",
        "    loss = criterion(output, torch.topk(category_tensor, 1).indices.view(-1))\n",
        "\n",
        "    # zero the parameter gradients\n",
        "    optim.zero_grad()\n",
        "    loss.backward()\n",
        "    optim.step()\n",
        "\n",
        "    return output, loss.item()"
      ]
    },
    {
      "cell_type": "markdown",
      "metadata": {
        "id": "VAfzhojnuUGE"
      },
      "source": [
        "#### Train from the RNN using pytorch approach ####"
      ]
    },
    {
      "cell_type": "code",
      "execution_count": 51,
      "metadata": {
        "id": "EfKG1mWXuUGE",
        "outputId": "69c53bc2-dd21-4054-d33f-b925a2d9bb9c",
        "colab": {
          "base_uri": "https://localhost:8080/"
        }
      },
      "outputs": [
        {
          "output_type": "stream",
          "name": "stdout",
          "text": [
            "5000 5% (0m 11s) 2.1064 Wawrzaszek / Polish ✓\n",
            "10000 10% (0m 22s) 2.9606 De felice / French ✗ (Italian)\n",
            "15000 15% (0m 32s) 0.9777 Muyskens / Dutch ✓\n",
            "20000 20% (0m 42s) 2.3640 Proctor / Portuguese ✗ (English)\n",
            "25000 25% (0m 53s) 1.7985 Fukao / Vietnamese ✗ (Japanese)\n",
            "30000 30% (1m 4s) 2.2393 Jiao / Portuguese ✗ (Chinese)\n",
            "35000 35% (1m 14s) 1.9661 Opova / Irish ✗ (Czech)\n",
            "40000 40% (1m 24s) 1.0492 She / Korean ✗ (Chinese)\n",
            "45000 45% (1m 35s) 0.1145 Rossini / Italian ✓\n",
            "50000 50% (1m 46s) 1.4354 Franke / German ✓\n",
            "55000 55% (1m 56s) 1.2836 Eldeston / Polish ✗ (English)\n",
            "60000 60% (2m 7s) 1.5076 Millward / Dutch ✗ (English)\n",
            "65000 65% (2m 18s) 2.5505 Masson / Scottish ✗ (French)\n",
            "70000 70% (2m 28s) 0.0318 Kouropoulos / Greek ✓\n",
            "75000 75% (2m 38s) 0.1596 Campbell / Scottish ✓\n",
            "80000 80% (2m 49s) 0.0259 Nakatoni / Japanese ✓\n",
            "85000 85% (3m 0s) 0.1947 Ghanem / Arabic ✓\n",
            "90000 90% (3m 10s) 0.2147 Fonseca / Portuguese ✓\n",
            "95000 95% (3m 20s) 0.4987 Chu / Vietnamese ✓\n",
            "100000 100% (3m 30s) 0.3864 Sung / Korean ✓\n"
          ]
        }
      ],
      "source": [
        "criterion = nn.NLLLoss() # Because we are using Log_softmax\n",
        "learning_rate = 0.005 # If you set this too high, it might explode. If too low, it might not learn\n",
        "N_HIDDEN = 128\n",
        "\n",
        "model_pytorch = RNNPytorch(n_letters, N_HIDDEN, n_categories) #Vocab_size, hidden size, output classes\n",
        "model_pytorch = model_pytorch.to(device)\n",
        "optimizer = optim.SGD(model_pytorch.parameters(), lr=learning_rate)\n",
        "\n",
        "n_iters = 100000\n",
        "print_every = 5000\n",
        "plot_every = 1000\n",
        "\n",
        "# Keep track of losses for plotting\n",
        "current_loss = 0\n",
        "all_losses = []\n",
        "\n",
        "start = time.time()\n",
        "\n",
        "for iter in range(1, n_iters + 1):\n",
        "    category, line, category_tensor, line_tensor = randomTrainingExample()\n",
        "    output, loss = train_pytorch_model(category_tensor, line_tensor, optimizer, criterion, model_pytorch)\n",
        "    current_loss += loss\n",
        "    # Print iter number, loss, name and guess\n",
        "    if iter % print_every == 0:\n",
        "        guess, guess_i = categoryFromOutput(output)\n",
        "        correct = '✓' if guess == category else '✗ (%s)' % category\n",
        "        print('%d %d%% (%s) %.4f %s / %s %s' % (iter, iter / n_iters * 100, timeSince(start), loss, line, guess, correct))\n",
        "\n",
        "    # Add current loss avg to list of losses\n",
        "    if iter % plot_every == 0:\n",
        "        all_losses.append(current_loss / plot_every)\n",
        "        current_loss = 0"
      ]
    },
    {
      "cell_type": "code",
      "execution_count": 52,
      "metadata": {
        "id": "eFAsPtDCuUGE",
        "outputId": "68cc3583-32a2-4ecd-8cef-d033847e4e10",
        "colab": {
          "base_uri": "https://localhost:8080/",
          "height": 448
        }
      },
      "outputs": [
        {
          "output_type": "execute_result",
          "data": {
            "text/plain": [
              "[<matplotlib.lines.Line2D at 0x7d06b0334710>]"
            ]
          },
          "metadata": {},
          "execution_count": 52
        },
        {
          "output_type": "display_data",
          "data": {
            "text/plain": [
              "<Figure size 640x480 with 1 Axes>"
            ],
            "image/png": "[encoded data removed]"
          },
          "metadata": {}
        }
      ],
      "source": [
        "# PLOT THE RESULT\n",
        "\n",
        "import matplotlib.pyplot as plt\n",
        "import matplotlib.ticker as ticker\n",
        "\n",
        "plt.figure()\n",
        "plt.plot(all_losses)"
      ]
    },
    {
      "cell_type": "code",
      "execution_count": 53,
      "metadata": {
        "id": "_qw4fy_AuUGF"
      },
      "outputs": [],
      "source": [
        "# Just return an output given a line\n",
        "def evaluate(line_tensor, model):\n",
        "    model.eval()\n",
        "    hidden = model.initHidden(line_tensor.shape[1])\n",
        "    hidden = hidden.to(device)\n",
        "\n",
        "    line_tensor = line_tensor.permute(1, 0, 2)\n",
        "    line_tensor = line_tensor.to(device)\n",
        "    output, hidden = model(line_tensor, hidden)\n",
        "\n",
        "    return output"
      ]
    },
    {
      "cell_type": "code",
      "execution_count": 54,
      "metadata": {
        "id": "bqd3cYAVuUGF",
        "outputId": "9399ac6e-ac65-4169-b187-eb28ee0543d4",
        "colab": {
          "base_uri": "https://localhost:8080/"
        }
      },
      "outputs": [
        {
          "output_type": "stream",
          "name": "stdout",
          "text": [
            "\n",
            "> Dovesky\n",
            "(-1.12) Polish\n",
            "(-1.23) Russian\n",
            "(-1.49) Czech\n",
            "\n",
            "> Jackson\n",
            "(-0.01) Scottish\n",
            "(-5.04) English\n",
            "(-5.59) Russian\n",
            "\n",
            "> Satoshi\n",
            "(-0.87) Italian\n",
            "(-1.03) Japanese\n",
            "(-1.73) Greek\n",
            "\n",
            "> Alberto\n",
            "(-0.44) Portuguese\n",
            "(-1.62) Italian\n",
            "(-1.86) Spanish\n"
          ]
        }
      ],
      "source": [
        "def predict(input_line, n_predictions=3):\n",
        "    print('\\n> %s' % input_line)\n",
        "    with torch.no_grad():\n",
        "        output = evaluate(lineToTensor(input_line), model_pytorch)\n",
        "\n",
        "        # Get top N categories\n",
        "        topv, topi = output.topk(n_predictions, 1, True)\n",
        "        predictions = []\n",
        "\n",
        "        for i in range(n_predictions):\n",
        "            value = topv[0][i].item()\n",
        "            category_index = topi[0][i].item()\n",
        "            print('(%.2f) %s' % (value, all_categories[category_index]))\n",
        "            predictions.append([value, all_categories[category_index]])\n",
        "\n",
        "predict('Dovesky')\n",
        "predict('Jackson')\n",
        "predict('Satoshi')\n",
        "predict('Alberto')"
      ]
    },
    {
      "cell_type": "markdown",
      "metadata": {
        "id": "hoLQzvvxuUGF"
      },
      "source": [
        "## Now one of your assigments is to adapt/expand this text classifier! ##\n",
        "\n",
        "- Adapt the task to another similar task\n",
        "- Use LSTMs or GRU to compare with both Vanilla RNN approaches\n",
        "\n",
        "You can keep it at character-level or you can extend it to word-level (the vocabulary will change)\n",
        "\n",
        "Try with different datasets with a similar Input/Output system:\n",
        "- Book or character name -> writer\n",
        "- Game's titles -> company or genre\n",
        "- Any word -> language\n",
        "- Whatever you can think it can be classified"
      ]
    },
    {
      "cell_type": "code",
      "source": [
        "# Load the video game dataset\n",
        "print(\"Loading Video Game Sales dataset from Google Drive...\")\n",
        "df = pd.read_csv('/content/drive/MyDrive/ColabNotebooks/Video_Games_Sales.csv')\n",
        "\n",
        "print(f\"Dataset loaded successfully!\")\n",
        "print(f\"Shape: {df.shape}\")\n",
        "print(f\"Columns: {list(df.columns)}\")\n"
      ],
      "metadata": {
        "colab": {
          "base_uri": "https://localhost:8080/"
        },
        "id": "2urRvxGYLBh8",
        "outputId": "ab4d54f6-2f58-41c7-e0f6-154d3a517116"
      },
      "execution_count": 56,
      "outputs": [
        {
          "output_type": "stream",
          "name": "stdout",
          "text": [
            "Loading Video Game Sales dataset from Google Drive...\n",
            "Dataset loaded successfully!\n",
            "Shape: (16719, 16)\n",
            "Columns: ['Name', 'Platform', 'Year_of_Release', 'Genre', 'Publisher', 'NA_Sales', 'EU_Sales', 'JP_Sales', 'Other_Sales', 'Global_Sales', 'Critic_Score', 'Critic_Count', 'User_Score', 'User_Count', 'Developer', 'Rating']\n"
          ]
        }
      ]
    },
    {
      "cell_type": "code",
      "source": [
        "# Clean the data\n",
        "print(\"\\nCleaning data...\")\n",
        "# Remove rows with missing Name or Genre\n",
        "df_clean = df.dropna(subset=['Name', 'Genre']).copy()"
      ],
      "metadata": {
        "colab": {
          "base_uri": "https://localhost:8080/"
        },
        "id": "0vigL7BlLMP9",
        "outputId": "35779ecd-9556-42c9-e476-d14940369d1e"
      },
      "execution_count": 57,
      "outputs": [
        {
          "output_type": "stream",
          "name": "stdout",
          "text": [
            "\n",
            "Cleaning data...\n"
          ]
        }
      ]
    },
    {
      "cell_type": "code",
      "source": [
        "# Show genre distribution and balance the dataset\n",
        "print(\"\\nOriginal genre distribution:\")\n",
        "genre_counts = df_clean['Genre'].value_counts()\n",
        "print(genre_counts)\n",
        "\n",
        "# Balance the dataset - take max 1000 games per genre to avoid bias\n",
        "balanced_games = []\n",
        "for genre in genre_counts.index:\n",
        "    genre_games = df_clean[df_clean['Genre'] == genre]['Name'].tolist()\n",
        "    # Remove duplicates and limit\n",
        "    unique_games = list(set(genre_games))\n",
        "    # Take up to 1000 games per genre\n",
        "    selected_games = unique_games[:min(1000, len(unique_games))]\n",
        "    for game in selected_games:\n",
        "        balanced_games.append((game, genre))\n",
        "\n",
        "print(f\"\\nBalanced dataset: {len(balanced_games)} games\")"
      ],
      "metadata": {
        "id": "DdqFS9E1-OKl",
        "outputId": "e5bd4f5c-7780-47d0-8f88-695ba50dab4e",
        "colab": {
          "base_uri": "https://localhost:8080/"
        }
      },
      "execution_count": 64,
      "outputs": [
        {
          "output_type": "stream",
          "name": "stdout",
          "text": [
            "\n",
            "Original genre distribution:\n",
            "Genre\n",
            "Action          3370\n",
            "Sports          2348\n",
            "Misc            1750\n",
            "Role-Playing    1500\n",
            "Shooter         1323\n",
            "Adventure       1303\n",
            "Racing          1249\n",
            "Platform         888\n",
            "Simulation       874\n",
            "Fighting         849\n",
            "Strategy         683\n",
            "Puzzle           580\n",
            "Name: count, dtype: int64\n",
            "\n",
            "Balanced dataset: 9611 games\n"
          ]
        }
      ]
    },
    {
      "cell_type": "code",
      "source": [
        "# Create balanced genre dictionary\n",
        "game_genre_lines = {}\n",
        "for game, genre in balanced_games:\n",
        "    if genre not in game_genre_lines:\n",
        "        game_genre_lines[genre] = []\n",
        "    game_genre_lines[genre].append(game)\n",
        "\n",
        "game_genres = list(game_genre_lines.keys())\n",
        "n_game_genres = len(game_genres)\n",
        "\n",
        "print(f\"\\nBalanced genres ({n_game_genres} total):\")\n",
        "for genre in game_genres:\n",
        "    print(f\"{genre}: {len(game_genre_lines[genre])} games\")"
      ],
      "metadata": {
        "colab": {
          "base_uri": "https://localhost:8080/"
        },
        "id": "BLOvvxxBLWia",
        "outputId": "f93f0501-14bb-463d-bc3c-eaf5c982c454"
      },
      "execution_count": 66,
      "outputs": [
        {
          "output_type": "stream",
          "name": "stdout",
          "text": [
            "\n",
            "Balanced genres (12 total):\n",
            "Action: 1000 games\n",
            "Sports: 1000 games\n",
            "Misc: 1000 games\n",
            "Role-Playing: 1000 games\n",
            "Shooter: 825 games\n",
            "Adventure: 1000 games\n",
            "Racing: 772 games\n",
            "Platform: 588 games\n",
            "Simulation: 730 games\n",
            "Fighting: 613 games\n",
            "Strategy: 585 games\n",
            "Puzzle: 498 games\n"
          ]
        }
      ]
    },
    {
      "cell_type": "code",
      "source": [
        "# Improved character encoding - include numbers and common punctuation\n",
        "all_letters = string.ascii_letters + \"0123456789 .,;'-:()\"\n",
        "n_letters = len(all_letters)\n",
        "\n",
        "def letterToIndex(letter):\n",
        "    if letter in all_letters:\n",
        "        return all_letters.find(letter)\n",
        "    else:\n",
        "        return 0  # Default to first character for unknown chars\n",
        "\n",
        "def letterToTensor(letter):\n",
        "    tensor = torch.zeros(1, n_letters)\n",
        "    tensor[0][letterToIndex(letter)] = 1\n",
        "    return tensor\n",
        "\n",
        "def lineToTensor(line):\n",
        "    # Clean the line - remove special characters that aren't in our vocabulary\n",
        "    cleaned_line = ''.join([c if c in all_letters else ' ' for c in line])\n",
        "    tensor = torch.zeros(len(cleaned_line), 1, n_letters)\n",
        "    for li, letter in enumerate(cleaned_line):\n",
        "        tensor[li][0][letterToIndex(letter)] = 1\n",
        "    return tensor\n",
        "\n",
        "def randomGameTrainingExample():\n",
        "    genre = random.choice(game_genres)\n",
        "    game = random.choice(game_genre_lines[genre])\n",
        "    genre_tensor = torch.tensor([game_genres.index(genre)], dtype=torch.long)\n",
        "    game_tensor = lineToTensor(game)\n",
        "    return genre, game, genre_tensor, game_tensor\n",
        "\n",
        "def gameFromOutput(output):\n",
        "    top_n, top_i = output.topk(1)\n",
        "    genre_i = top_i[0].item()\n",
        "    return game_genres[genre_i], genre_i"
      ],
      "metadata": {
        "id": "jkuVYGSo-tjp"
      },
      "execution_count": 67,
      "outputs": []
    },
    {
      "cell_type": "code",
      "source": [
        "# Improved model architecture\n",
        "class ImprovedGameRNN(nn.Module):\n",
        "    def __init__(self, input_size, hidden_size, output_size, num_layers=2):\n",
        "        super(ImprovedGameRNN, self).__init__()\n",
        "        self.hidden_size = hidden_size\n",
        "        self.num_layers = num_layers\n",
        "\n",
        "        # Use bidirectional LSTM for better context understanding\n",
        "        self.lstm = nn.LSTM(input_size, hidden_size, num_layers,\n",
        "                           batch_first=False, dropout=0.2, bidirectional=True)\n",
        "\n",
        "        # Adjust for bidirectional output (hidden_size * 2)\n",
        "        self.dropout = nn.Dropout(0.3)\n",
        "        self.fc1 = nn.Linear(hidden_size * 2, hidden_size)\n",
        "        self.relu = nn.ReLU()\n",
        "        self.fc2 = nn.Linear(hidden_size, output_size)\n",
        "        self.log_softmax = nn.LogSoftmax(dim=1)\n",
        "\n",
        "    def forward(self, input_seq, hidden):\n",
        "        lstm_out, hidden = self.lstm(input_seq, hidden)\n",
        "\n",
        "        # Use the last output (forward and backward combined)\n",
        "        output = lstm_out[-1]\n",
        "        output = self.dropout(output)\n",
        "        output = self.fc1(output)\n",
        "        output = self.relu(output)\n",
        "        output = self.dropout(output)\n",
        "        output = self.fc2(output)\n",
        "        output = self.log_softmax(output)\n",
        "        return output, hidden\n",
        "\n",
        "    def initHidden(self):\n",
        "        # Bidirectional LSTM needs (num_layers * 2) for hidden states\n",
        "        return (torch.zeros(self.num_layers * 2, 1, self.hidden_size),\n",
        "                torch.zeros(self.num_layers * 2, 1, self.hidden_size))\n"
      ],
      "metadata": {
        "id": "he3EoNd7Lsk2"
      },
      "execution_count": 68,
      "outputs": []
    },
    {
      "cell_type": "code",
      "source": [
        "# Improved model architecture\n",
        "class ImprovedGameRNN(nn.Module):\n",
        "    def __init__(self, input_size, hidden_size, output_size, num_layers=2):\n",
        "        super(ImprovedGameRNN, self).__init__()\n",
        "        self.hidden_size = hidden_size\n",
        "        self.num_layers = num_layers\n",
        "\n",
        "        # Use bidirectional LSTM for better context understanding\n",
        "        self.lstm = nn.LSTM(input_size, hidden_size, num_layers,\n",
        "                           batch_first=False, dropout=0.2, bidirectional=True)\n",
        "\n",
        "        # Adjust for bidirectional output (hidden_size * 2)\n",
        "        self.dropout = nn.Dropout(0.3)\n",
        "        self.fc1 = nn.Linear(hidden_size * 2, hidden_size)\n",
        "        self.relu = nn.ReLU()\n",
        "        self.fc2 = nn.Linear(hidden_size, output_size)\n",
        "        self.log_softmax = nn.LogSoftmax(dim=1)\n",
        "\n",
        "    def forward(self, input_seq, hidden):\n",
        "        lstm_out, hidden = self.lstm(input_seq, hidden)\n",
        "\n",
        "        # Use the last output (forward and backward combined)\n",
        "        output = lstm_out[-1]\n",
        "        output = self.dropout(output)\n",
        "        output = self.fc1(output)\n",
        "        output = self.relu(output)\n",
        "        output = self.dropout(output)\n",
        "        output = self.fc2(output)\n",
        "        output = self.log_softmax(output)\n",
        "        return output, hidden\n",
        "\n",
        "    def initHidden(self):\n",
        "        # Bidirectional LSTM needs (num_layers * 2) for hidden states\n",
        "        return (torch.zeros(self.num_layers * 2, 1, self.hidden_size),\n",
        "                torch.zeros(self.num_layers * 2, 1, self.hidden_size))\n",
        "\n",
        "# Training function with better error handling\n",
        "def train_improved_classifier(genre_tensor, game_tensor, model, optimizer, criterion):\n",
        "    hidden = model.initHidden()\n",
        "    model.zero_grad()\n",
        "\n",
        "    # Skip very short games (less than 3 characters)\n",
        "    if game_tensor.size()[0] < 3:\n",
        "        return None, 0\n",
        "\n",
        "    try:\n",
        "        for i in range(game_tensor.size()[0]):\n",
        "            output, hidden = model(game_tensor[i].unsqueeze(0), hidden)\n",
        "\n",
        "        loss = criterion(output, genre_tensor)\n",
        "        loss.backward()\n",
        "\n",
        "        # Gradient clipping to prevent exploding gradients\n",
        "        torch.nn.utils.clip_grad_norm_(model.parameters(), 1.0)\n",
        "\n",
        "        optimizer.step()\n",
        "        return output, loss.item()\n",
        "    except:\n",
        "        return None, 0\n",
        "\n",
        "# Initialize improved model\n",
        "n_hidden = 128  # Reduced for faster training\n",
        "improved_model = ImprovedGameRNN(n_letters, n_hidden, n_game_genres, num_layers=2)\n",
        "\n",
        "criterion = nn.NLLLoss()\n",
        "learning_rate = 0.01  # Increased learning rate\n",
        "optimizer = optim.Adam(improved_model.parameters(), lr=learning_rate, weight_decay=1e-5)\n",
        "\n",
        "# Training with better monitoring\n",
        "n_iters = 15000\n",
        "print_every = 2000\n",
        "plot_every = 500\n",
        "\n",
        "current_loss = 0\n",
        "all_losses = []\n",
        "correct_predictions = 0\n",
        "total_predictions = 0\n",
        "\n",
        "start = time.time()\n",
        "\n",
        "def timeSince(since):\n",
        "    now = time.time()\n",
        "    s = now - since\n",
        "    m = math.floor(s / 60)\n",
        "    s -= m * 60\n",
        "    return '%dm %ds' % (m, s)\n",
        "\n",
        "print(\"Training Improved Game Genre Classifier...\")\n",
        "print(f\"Balanced dataset with {len(balanced_games)} games across {n_game_genres} genres\")\n",
        "print(f\"Training for {n_iters:,} iterations\")\n",
        "\n",
        "for iter in range(1, n_iters + 1):\n",
        "    genre, game, genre_tensor, game_tensor = randomGameTrainingExample()\n",
        "    result = train_improved_classifier(genre_tensor, game_tensor, improved_model, optimizer, criterion)\n",
        "\n",
        "    if result[0] is not None:\n",
        "        output, loss = result\n",
        "        current_loss += loss\n",
        "\n",
        "        # Track accuracy during training\n",
        "        guess, guess_i = gameFromOutput(output)\n",
        "        if guess == genre:\n",
        "            correct_predictions += 1\n",
        "        total_predictions += 1\n",
        "\n",
        "    if iter % print_every == 0:\n",
        "        if result[0] is not None:\n",
        "            guess, guess_i = gameFromOutput(output)\n",
        "            correct = '✓' if guess == genre else '✗ (%s)' % genre\n",
        "            train_acc = correct_predictions / max(total_predictions, 1) * 100\n",
        "            print('%d %d%% (%s) Loss: %.4f Acc: %.1f%% | %s -> %s %s' %\n",
        "                  (iter, iter / n_iters * 100, timeSince(start), loss,\n",
        "                   train_acc, game[:25], guess, correct))\n",
        "\n",
        "    if iter % plot_every == 0:\n",
        "        if current_loss > 0:\n",
        "            all_losses.append(current_loss / plot_every)\n",
        "            current_loss = 0\n",
        "\n",
        "print(\"Training completed!\")\n",
        "final_train_acc = correct_predictions / max(total_predictions, 1) * 100\n",
        "print(f\"Final training accuracy: {final_train_acc:.1f}%\")"
      ],
      "metadata": {
        "colab": {
          "base_uri": "https://localhost:8080/"
        },
        "id": "WTKyJ_QMLzc8",
        "outputId": "b83af914-e311-4f94-baec-44cb86bbeb38"
      },
      "execution_count": null,
      "outputs": [
        {
          "output_type": "stream",
          "name": "stdout",
          "text": [
            "Training Improved Game Genre Classifier...\n",
            "Balanced dataset with 9611 games across 12 genres\n",
            "Training for 15,000 iterations\n",
            "2000 13% (4m 57s) Loss: 2.3667 Acc: 8.2% | Magnetica -> Simulation ✗ (Puzzle)\n",
            "4000 26% (9m 54s) Loss: 2.4800 Acc: 7.8% | Kiniro no Corda 2 -> Racing ✗ (Role-Playing)\n",
            "6000 40% (14m 57s) Loss: 2.6558 Acc: 8.1% | Pitfall 3D: Beyond the Ju -> Sports ✗ (Platform)\n",
            "8000 53% (20m 2s) Loss: 2.3875 Acc: 8.1% | The 7th Guest -> Fighting ✗ (Adventure)\n"
          ]
        }
      ]
    },
    {
      "cell_type": "code",
      "source": [
        "# Evaluation function\n",
        "def evaluate_improved(game_tensor):\n",
        "    improved_model.eval()\n",
        "    hidden = improved_model.initHidden()\n",
        "\n",
        "    with torch.no_grad():\n",
        "        for i in range(game_tensor.size()[0]):\n",
        "            output, hidden = improved_model(game_tensor[i].unsqueeze(0), hidden)\n",
        "\n",
        "    improved_model.train()\n",
        "    return output\n",
        "\n",
        "def predict_improved(input_game, n_predictions=3):\n",
        "    print(f'\\n> {input_game}')\n",
        "    with torch.no_grad():\n",
        "        output = evaluate_improved(lineToTensor(input_game))\n",
        "\n",
        "        topv, topi = output.topk(n_predictions, 1, True)\n",
        "        predictions = []\n",
        "\n",
        "        for i in range(n_predictions):\n",
        "            value = topv[0][i].item()\n",
        "            genre_index = topi[0][i].item()\n",
        "            confidence = math.exp(value) * 100  # Convert log probability to percentage\n",
        "            print('(%.1f%%) %s' % (confidence, game_genres[genre_index]))\n",
        "            predictions.append([value, game_genres[genre_index]])\n",
        "\n",
        "# Test with real games from dataset\n",
        "print(\"\\n\" + \"=\"*60)\n",
        "print(\"TESTING IMPROVED CLASSIFIER\")\n",
        "print(\"=\"*60)\n",
        "\n",
        "# Test with actual games from each genre\n",
        "test_examples = []\n",
        "for genre in game_genres:\n",
        "    if len(game_genre_lines[genre]) >= 3:\n",
        "        # Pick 2 random games from each genre\n",
        "        sample_games = random.sample(game_genre_lines[genre], min(2, len(game_genre_lines[genre])))\n",
        "        for game in sample_games:\n",
        "            test_examples.append((game, genre))\n",
        "\n",
        "print(\"Testing with real games from dataset:\")\n",
        "for game, actual_genre in test_examples[:10]:  # Test first 10\n",
        "    print(f\"\\nExpected: {actual_genre}\")\n",
        "    predict_improved(game)\n",
        "\n",
        "# Final accuracy test\n",
        "print(\"\\n\" + \"=\"*60)\n",
        "print(\"FINAL ACCURACY EVALUATION\")\n",
        "print(\"=\"*60)\n",
        "\n",
        "correct = 0\n",
        "total = 500  # Reduced for speed\n",
        "\n",
        "for i in range(total):\n",
        "    genre, game, genre_tensor, game_tensor = randomGameTrainingExample()\n",
        "    output = evaluate_improved(game_tensor)\n",
        "    guess, guess_i = gameFromOutput(output)\n",
        "\n",
        "    if guess == genre:\n",
        "        correct += 1\n",
        "\n",
        "accuracy = correct / total\n",
        "print(f'Final Test Accuracy: {accuracy:.1%} ({correct}/{total})')\n",
        "\n",
        "if accuracy < 0.20:  # Less than 20%\n",
        "    print(\"\\n⚠️  Low accuracy suggestions:\")\n",
        "    print(\"1. The dataset might need more preprocessing\")\n",
        "    print(\"2. Some genres might be very similar (Action vs Shooter)\")\n",
        "    print(\"3. Character-level might not capture enough semantic meaning\")\n",
        "    print(\"4. Consider word-level encoding for better results\")\n",
        "elif accuracy < 0.40:  # 20-40%\n",
        "    print(\"\\n✅ Moderate accuracy - good for character-level classification!\")\n",
        "    print(\"This is reasonable for character-level genre classification\")\n",
        "else:  # 40%+\n",
        "    print(\"\\n🎉 Good accuracy for this task!\")\n",
        "\n",
        "print(f'\\nModel Summary:')\n",
        "print(f'- Dataset: {len(balanced_games)} balanced games')\n",
        "print(f'- Genres: {n_game_genres}')\n",
        "print(f'- Architecture: Bidirectional LSTM')\n",
        "print(f'- Character vocabulary: {n_letters} characters')\n",
        "print(f'- Training accuracy: {final_train_acc:.1f}%')\n",
        "print(f'- Test accuracy: {accuracy:.1%}')"
      ],
      "metadata": {
        "colab": {
          "base_uri": "https://localhost:8080/",
          "height": 1000
        },
        "id": "oYzaHBIYL82g",
        "outputId": "7682ff9f-23e3-4f92-8e40-62af8512f4ae"
      },
      "execution_count": 62,
      "outputs": [
        {
          "output_type": "stream",
          "name": "stdout",
          "text": [
            "\n",
            "==================================================\n",
            "TESTING THE GAME GENRE CLASSIFIER WITH REAL DATA\n",
            "==================================================\n",
            "Testing with actual games from dataset:\n",
            "\n",
            "Actual: Sports\n",
            "\n",
            "> Big Beach Sports 2\n",
            "(-2.36) Simulation\n",
            "(-2.38) Role-Playing\n",
            "(-2.39) Action\n",
            "\n",
            "Actual: Platform\n",
            "\n",
            "> Mega Man & Bass\n",
            "(-2.28) Simulation\n",
            "(-2.37) Action\n",
            "(-2.42) Role-Playing\n",
            "\n",
            "Actual: Racing\n",
            "\n",
            "> Need for Speed Underground\n",
            "(-2.36) Simulation\n",
            "(-2.41) Action\n",
            "(-2.43) Misc\n",
            "\n",
            "Actual: Role-Playing\n",
            "\n",
            "> Luminous Arc 2 (JP sales)\n",
            "(-2.31) Simulation\n",
            "(-2.39) Role-Playing\n",
            "(-2.40) Action\n",
            "\n",
            "Actual: Puzzle\n",
            "\n",
            "> Super Monkey Ball Jr.\n",
            "(-2.33) Simulation\n",
            "(-2.37) Role-Playing\n",
            "(-2.42) Action\n",
            "\n",
            "Actual: Misc\n",
            "\n",
            "> Nazo Waku Yakata: Oto no Ma ni Ma ni\n",
            "(-2.37) Role-Playing\n",
            "(-2.40) Action\n",
            "(-2.40) Simulation\n",
            "\n",
            "------------------------------\n",
            "Testing with custom examples:\n",
            "\n",
            "> Call of Duty Black Ops\n",
            "(-2.36) Simulation\n",
            "(-2.36) Action\n",
            "(-2.38) Role-Playing\n",
            "\n",
            "> FIFA World Cup\n",
            "(-2.31) Simulation\n",
            "(-2.39) Role-Playing\n",
            "(-2.43) Action\n",
            "\n",
            "> Final Fantasy VII\n",
            "(-2.40) Simulation\n",
            "(-2.42) Role-Playing\n",
            "(-2.45) Action\n",
            "\n",
            "> Gran Turismo\n",
            "(-2.38) Simulation\n",
            "(-2.42) Role-Playing\n",
            "(-2.44) Action\n",
            "\n",
            "> The Sims\n",
            "(-2.42) Action\n",
            "(-2.43) Adventure\n",
            "(-2.44) Simulation\n",
            "\n",
            "> Tetris\n",
            "(-2.37) Simulation\n",
            "(-2.40) Action\n",
            "(-2.46) Misc\n"
          ]
        },
        {
          "output_type": "display_data",
          "data": {
            "text/plain": [
              "<Figure size 1000x600 with 1 Axes>"
            ],
            "image/png": "[encoded data removed]"
          },
          "metadata": {}
        },
        {
          "output_type": "stream",
          "name": "stdout",
          "text": [
            "\n",
            "==================================================\n",
            "ACCURACY EVALUATION ON REAL DATASET\n",
            "==================================================\n",
            "Accuracy: 7.3% (73/1000)\n",
            "\n",
            "Detailed Results:\n",
            "Dataset: Video Games Sales (16,719 games)\n",
            "Total genres: 12\n",
            "Genres: Sports, Platform, Racing, Role-Playing, Puzzle, Misc, Shooter, Simulation, Action, Fighting, Adventure, Strategy\n",
            "\n",
            "Games per genre:\n",
            "  Action: 1958 games\n",
            "  Sports: 1379 games\n",
            "  Misc: 1330 games\n",
            "  Role-Playing: 1227 games\n",
            "  Adventure: 1062 games\n",
            "  Shooter: 825 games\n",
            "  Racing: 772 games\n",
            "  Simulation: 730 games\n",
            "  Fighting: 613 games\n",
            "  Platform: 588 games\n",
            "  Strategy: 585 games\n",
            "  Puzzle: 498 games\n",
            "\n",
            "Model Architecture:\n",
            "- Input: Character-level encoding (57 characters)\n",
            "- Hidden layers: 2-layer LSTM with 256 units\n",
            "- Dropout: 0.3 (LSTM) + 0.5 (FC)\n",
            "- Output: 12 genres\n",
            "- Optimizer: Adam (lr=0.001)\n",
            "- Training iterations: 10,000\n",
            "- Final accuracy: 7.3%\n",
            "\n",
            "Performance Notes:\n",
            "- Using real video game sales data from Kaggle\n",
            "- Character-level RNN can learn patterns in game titles\n",
            "- Some genres may be harder to distinguish based on title alone\n",
            "- Model learns associations like \"FIFA\" → Sports, \"Final Fantasy\" → Role-Playing\n"
          ]
        }
      ]
    }
  ],
  "metadata": {
    "kernelspec": {
      "display_name": "Python [conda env:pDL] *",
      "language": "python",
      "name": "conda-env-pDL-py"
    },
    "language_info": {
      "codemirror_mode": {
        "name": "ipython",
        "version": 3
      },
      "file_extension": ".py",
      "mimetype": "text/x-python",
      "name": "python",
      "nbconvert_exporter": "python",
      "pygments_lexer": "ipython3",
      "version": "3.8.2"
    },
    "colab": {
      "name": "2-text-classifier.ipynb",
      "provenance": [],
      "include_colab_link": true
    }
  },
  "nbformat": 4,
  "nbformat_minor": 0
}